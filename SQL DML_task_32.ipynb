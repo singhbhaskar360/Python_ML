{
  "nbformat": 4,
  "nbformat_minor": 0,
  "metadata": {
    "colab": {
      "provenance": [],
      "include_colab_link": true
    },
    "kernelspec": {
      "name": "python3",
      "display_name": "Python 3"
    },
    "language_info": {
      "name": "python"
    }
  },
  "cells": [
    {
      "cell_type": "markdown",
      "metadata": {
        "id": "view-in-github",
        "colab_type": "text"
      },
      "source": [
        "<a href=\"https://colab.research.google.com/github/singhbhaskar360/Python_ML/blob/main/SQL%20DML_task_32.ipynb\" target=\"_parent\"><img src=\"https://colab.research.google.com/assets/colab-badge.svg\" alt=\"Open In Colab\"/></a>"
      ]
    },
    {
      "cell_type": "markdown",
      "source": [
        "# Task for SQL DML session\n",
        "\n",
        "Load this dataset in your database and perform below given tasks.\n",
        "\n",
        "DataSet - https://docs.google.com/spreadsheets/d/e/2PACX-1vRa1wWwXmzxEvqITxj4OQTeLywlGTTsOTbhSRqKj2lPuGefjlci-DQhgLBPpgWXe8AAUu2WUBqY59X1/pub?gid=1030172542&single=true&output=csv\n",
        "\n",
        "Look for data description\n",
        "\n",
        "Kaggle - https://www.kaggle.com/datasets/thedevastator/insurance-claim-analysis-demographic-and-health?select=insurance_data.csv"
      ],
      "metadata": {
        "id": "O-kYKh3Z3HoZ"
      }
    },
    {
      "cell_type": "markdown",
      "source": [
        "### Perform the following queries\n",
        "\n",
        "1. Show records of 'male' patient from 'southwest' region.\n",
        "2. Show all records having bmi in range 30 to 45 both inclusive.\n",
        "3. Show minimum and maximum bloodpressure of diabetic patient who smokes. Make column names as MinBP and MaxBP respectively.\n",
        "4. Find no of unique patients who are not from southwest region.\n",
        "5. Total claim amount from male smoker.\n",
        "6. Select all records of south region.\n",
        "7. No of patient having normal blood pressure. Normal range[90-120]\n",
        "8. No of pateint belo 17 years of age having normal blood pressure as per below formula -\n",
        "    - BP normal range = 80+(age in years × 2) to 100 + (age in years × 2)\n",
        "\n",
        "    - Note: Formula taken just for practice, don't take in real sense.\n",
        "9. What is the average claim amount for non-smoking female patients who are diabetic?\n",
        "10. Write a SQL query to update the claim amount for the patient with PatientID = 1234 to 5000.\n",
        "11. Write a SQL query to delete all records for patients who are smokers and have no children.\n"
      ],
      "metadata": {
        "id": "HgeiRIpI3MjR"
      }
    },
    {
      "cell_type": "code",
      "source": [
        "-1\n",
        "SELECT * FROM insurance_data\n",
        "WHERE gender='male' AND region='southwest'\n",
        "\n",
        "--2\n",
        "SELECT * FROM insurance_data\n",
        "WHERE age>=30 AND age<=45\n",
        "\n",
        "--3\n",
        "\n",
        "\n",
        "--4 patients count who not belongs from south west\n",
        "SELECT DISTINCT(COUNT(PatientID)) from insurance_data\n",
        "where region not in ('southwest')\n",
        "\n",
        "SELECT DISTINCT(COUNT(PatientID)) from insurance_data\n",
        "where region= 'southwest'\n",
        "\n",
        "--5sum of claim for smoker male\n",
        "select round(SUM(claim),2) from insurance_data\n",
        "where gender='male' and smoker='yes'\n",
        "\n",
        "\n",
        "--6 customers from south region\n",
        "select distinct(count(*)) from insurance_data\n",
        "where region like 'south%'\n",
        "\n",
        "--7 count of patient having normal BP\n",
        "select distinct(count(*)) from insurance_data\n",
        "where bloodpressure between 90 and 120\n",
        "\n",
        "--8 average of claim for non smoker diabetic female\n",
        "select round(AVG(claim),0) from insurance_data\n",
        "where gender='female' and smoker='no' and diabetic=1-- and \n",
        "\n",
        "--9 for pateintID 1234 set claim 5000\n",
        "select * from insurance_data\n",
        "where PatientID=1234\n",
        "\n",
        "update insurance_data\n",
        "set claim=5000\n",
        "where PatientID=1234\n",
        "\n",
        "--10 delete row for smoker having zero children\n",
        "delete from insurance_data\n",
        "where smoker='yes' and children=0\n",
        "\n",
        "select * from insurance_data\n",
        "where smoker='yes' and children=0"
      ],
      "metadata": {
        "id": "56rYZ7bf3IJh"
      },
      "execution_count": null,
      "outputs": []
    }
  ]
}