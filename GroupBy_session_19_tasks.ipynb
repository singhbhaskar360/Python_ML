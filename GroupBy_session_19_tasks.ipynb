{
  "nbformat": 4,
  "nbformat_minor": 0,
  "metadata": {
    "colab": {
      "provenance": [],
      "include_colab_link": true
    },
    "kernelspec": {
      "name": "python3",
      "display_name": "Python 3"
    },
    "language_info": {
      "name": "python"
    }
  },
  "cells": [
    {
      "cell_type": "markdown",
      "metadata": {
        "id": "view-in-github",
        "colab_type": "text"
      },
      "source": [
        "<a href=\"https://colab.research.google.com/github/singhbhaskar360/Python_ML/blob/main/GroupBy_session_19_tasks.ipynb\" target=\"_parent\"><img src=\"https://colab.research.google.com/assets/colab-badge.svg\" alt=\"Open In Colab\"/></a>"
      ]
    },
    {
      "cell_type": "markdown",
      "source": [
        "## **Questions based on Titanic Dataset:**\n",
        "\n",
        "To read the dataset as csv, use the below code:\n",
        "\n",
        "```python\n",
        "import pandas as pd\n",
        "\n",
        "url = \"https://docs.google.com/spreadsheets/d/e/2PACX-1vQjh5HzZ1N0SU7ME9ZQRzeVTaXaGsV97rU8R7eAcg53k27GTstJp9cRUOfr55go1GRRvTz1NwvyOnuh/pub?gid=1562145139&single=true&output=csv\"\n",
        "titanic_df = pd.read_csv(url)\n",
        "```"
      ],
      "metadata": {
        "id": "mGBzdavGOUdP"
      }
    },
    {
      "cell_type": "code",
      "source": [
        "import pandas as pd\n",
        "\n",
        "url = \"https://docs.google.com/spreadsheets/d/e/2PACX-1vQjh5HzZ1N0SU7ME9ZQRzeVTaXaGsV97rU8R7eAcg53k27GTstJp9cRUOfr55go1GRRvTz1NwvyOnuh/pub?gid=1562145139&single=true&output=csv\"\n",
        "t1 = pd.read_csv(url)"
      ],
      "metadata": {
        "id": "jmipV_cRokVE"
      },
      "execution_count": 1,
      "outputs": []
    },
    {
      "cell_type": "code",
      "source": [
        "t1.head()"
      ],
      "metadata": {
        "colab": {
          "base_uri": "https://localhost:8080/",
          "height": 206
        },
        "id": "k7yANt58o420",
        "outputId": "b4dd6df7-0b85-460d-e803-c99e5014fd43"
      },
      "execution_count": 2,
      "outputs": [
        {
          "output_type": "execute_result",
          "data": {
            "text/plain": [
              "   PassengerId  Survived  Pclass  \\\n",
              "0            1         0       3   \n",
              "1            2         1       1   \n",
              "2            3         1       3   \n",
              "3            4         1       1   \n",
              "4            5         0       3   \n",
              "\n",
              "                                                Name     Sex   Age  SibSp  \\\n",
              "0                            Braund, Mr. Owen Harris    male  22.0      1   \n",
              "1  Cumings, Mrs. John Bradley (Florence Briggs Th...  female  38.0      1   \n",
              "2                             Heikkinen, Miss. Laina  female  26.0      0   \n",
              "3       Futrelle, Mrs. Jacques Heath (Lily May Peel)  female  35.0      1   \n",
              "4                           Allen, Mr. William Henry    male  35.0      0   \n",
              "\n",
              "   Parch            Ticket     Fare Cabin Embarked  \n",
              "0      0         A/5 21171   7.2500   NaN        S  \n",
              "1      0          PC 17599  71.2833   C85        C  \n",
              "2      0  STON/O2. 3101282   7.9250   NaN        S  \n",
              "3      0            113803  53.1000  C123        S  \n",
              "4      0            373450   8.0500   NaN        S  "
            ],
            "text/html": [
              "\n",
              "  <div id=\"df-af8e401f-a9b6-4ce3-86f5-98638d9986ef\">\n",
              "    <div class=\"colab-df-container\">\n",
              "      <div>\n",
              "<style scoped>\n",
              "    .dataframe tbody tr th:only-of-type {\n",
              "        vertical-align: middle;\n",
              "    }\n",
              "\n",
              "    .dataframe tbody tr th {\n",
              "        vertical-align: top;\n",
              "    }\n",
              "\n",
              "    .dataframe thead th {\n",
              "        text-align: right;\n",
              "    }\n",
              "</style>\n",
              "<table border=\"1\" class=\"dataframe\">\n",
              "  <thead>\n",
              "    <tr style=\"text-align: right;\">\n",
              "      <th></th>\n",
              "      <th>PassengerId</th>\n",
              "      <th>Survived</th>\n",
              "      <th>Pclass</th>\n",
              "      <th>Name</th>\n",
              "      <th>Sex</th>\n",
              "      <th>Age</th>\n",
              "      <th>SibSp</th>\n",
              "      <th>Parch</th>\n",
              "      <th>Ticket</th>\n",
              "      <th>Fare</th>\n",
              "      <th>Cabin</th>\n",
              "      <th>Embarked</th>\n",
              "    </tr>\n",
              "  </thead>\n",
              "  <tbody>\n",
              "    <tr>\n",
              "      <th>0</th>\n",
              "      <td>1</td>\n",
              "      <td>0</td>\n",
              "      <td>3</td>\n",
              "      <td>Braund, Mr. Owen Harris</td>\n",
              "      <td>male</td>\n",
              "      <td>22.0</td>\n",
              "      <td>1</td>\n",
              "      <td>0</td>\n",
              "      <td>A/5 21171</td>\n",
              "      <td>7.2500</td>\n",
              "      <td>NaN</td>\n",
              "      <td>S</td>\n",
              "    </tr>\n",
              "    <tr>\n",
              "      <th>1</th>\n",
              "      <td>2</td>\n",
              "      <td>1</td>\n",
              "      <td>1</td>\n",
              "      <td>Cumings, Mrs. John Bradley (Florence Briggs Th...</td>\n",
              "      <td>female</td>\n",
              "      <td>38.0</td>\n",
              "      <td>1</td>\n",
              "      <td>0</td>\n",
              "      <td>PC 17599</td>\n",
              "      <td>71.2833</td>\n",
              "      <td>C85</td>\n",
              "      <td>C</td>\n",
              "    </tr>\n",
              "    <tr>\n",
              "      <th>2</th>\n",
              "      <td>3</td>\n",
              "      <td>1</td>\n",
              "      <td>3</td>\n",
              "      <td>Heikkinen, Miss. Laina</td>\n",
              "      <td>female</td>\n",
              "      <td>26.0</td>\n",
              "      <td>0</td>\n",
              "      <td>0</td>\n",
              "      <td>STON/O2. 3101282</td>\n",
              "      <td>7.9250</td>\n",
              "      <td>NaN</td>\n",
              "      <td>S</td>\n",
              "    </tr>\n",
              "    <tr>\n",
              "      <th>3</th>\n",
              "      <td>4</td>\n",
              "      <td>1</td>\n",
              "      <td>1</td>\n",
              "      <td>Futrelle, Mrs. Jacques Heath (Lily May Peel)</td>\n",
              "      <td>female</td>\n",
              "      <td>35.0</td>\n",
              "      <td>1</td>\n",
              "      <td>0</td>\n",
              "      <td>113803</td>\n",
              "      <td>53.1000</td>\n",
              "      <td>C123</td>\n",
              "      <td>S</td>\n",
              "    </tr>\n",
              "    <tr>\n",
              "      <th>4</th>\n",
              "      <td>5</td>\n",
              "      <td>0</td>\n",
              "      <td>3</td>\n",
              "      <td>Allen, Mr. William Henry</td>\n",
              "      <td>male</td>\n",
              "      <td>35.0</td>\n",
              "      <td>0</td>\n",
              "      <td>0</td>\n",
              "      <td>373450</td>\n",
              "      <td>8.0500</td>\n",
              "      <td>NaN</td>\n",
              "      <td>S</td>\n",
              "    </tr>\n",
              "  </tbody>\n",
              "</table>\n",
              "</div>\n",
              "      <button class=\"colab-df-convert\" onclick=\"convertToInteractive('df-af8e401f-a9b6-4ce3-86f5-98638d9986ef')\"\n",
              "              title=\"Convert this dataframe to an interactive table.\"\n",
              "              style=\"display:none;\">\n",
              "        \n",
              "  <svg xmlns=\"http://www.w3.org/2000/svg\" height=\"24px\"viewBox=\"0 0 24 24\"\n",
              "       width=\"24px\">\n",
              "    <path d=\"M0 0h24v24H0V0z\" fill=\"none\"/>\n",
              "    <path d=\"M18.56 5.44l.94 2.06.94-2.06 2.06-.94-2.06-.94-.94-2.06-.94 2.06-2.06.94zm-11 1L8.5 8.5l.94-2.06 2.06-.94-2.06-.94L8.5 2.5l-.94 2.06-2.06.94zm10 10l.94 2.06.94-2.06 2.06-.94-2.06-.94-.94-2.06-.94 2.06-2.06.94z\"/><path d=\"M17.41 7.96l-1.37-1.37c-.4-.4-.92-.59-1.43-.59-.52 0-1.04.2-1.43.59L10.3 9.45l-7.72 7.72c-.78.78-.78 2.05 0 2.83L4 21.41c.39.39.9.59 1.41.59.51 0 1.02-.2 1.41-.59l7.78-7.78 2.81-2.81c.8-.78.8-2.07 0-2.86zM5.41 20L4 18.59l7.72-7.72 1.47 1.35L5.41 20z\"/>\n",
              "  </svg>\n",
              "      </button>\n",
              "      \n",
              "  <style>\n",
              "    .colab-df-container {\n",
              "      display:flex;\n",
              "      flex-wrap:wrap;\n",
              "      gap: 12px;\n",
              "    }\n",
              "\n",
              "    .colab-df-convert {\n",
              "      background-color: #E8F0FE;\n",
              "      border: none;\n",
              "      border-radius: 50%;\n",
              "      cursor: pointer;\n",
              "      display: none;\n",
              "      fill: #1967D2;\n",
              "      height: 32px;\n",
              "      padding: 0 0 0 0;\n",
              "      width: 32px;\n",
              "    }\n",
              "\n",
              "    .colab-df-convert:hover {\n",
              "      background-color: #E2EBFA;\n",
              "      box-shadow: 0px 1px 2px rgba(60, 64, 67, 0.3), 0px 1px 3px 1px rgba(60, 64, 67, 0.15);\n",
              "      fill: #174EA6;\n",
              "    }\n",
              "\n",
              "    [theme=dark] .colab-df-convert {\n",
              "      background-color: #3B4455;\n",
              "      fill: #D2E3FC;\n",
              "    }\n",
              "\n",
              "    [theme=dark] .colab-df-convert:hover {\n",
              "      background-color: #434B5C;\n",
              "      box-shadow: 0px 1px 3px 1px rgba(0, 0, 0, 0.15);\n",
              "      filter: drop-shadow(0px 1px 2px rgba(0, 0, 0, 0.3));\n",
              "      fill: #FFFFFF;\n",
              "    }\n",
              "  </style>\n",
              "\n",
              "      <script>\n",
              "        const buttonEl =\n",
              "          document.querySelector('#df-af8e401f-a9b6-4ce3-86f5-98638d9986ef button.colab-df-convert');\n",
              "        buttonEl.style.display =\n",
              "          google.colab.kernel.accessAllowed ? 'block' : 'none';\n",
              "\n",
              "        async function convertToInteractive(key) {\n",
              "          const element = document.querySelector('#df-af8e401f-a9b6-4ce3-86f5-98638d9986ef');\n",
              "          const dataTable =\n",
              "            await google.colab.kernel.invokeFunction('convertToInteractive',\n",
              "                                                     [key], {});\n",
              "          if (!dataTable) return;\n",
              "\n",
              "          const docLinkHtml = 'Like what you see? Visit the ' +\n",
              "            '<a target=\"_blank\" href=https://colab.research.google.com/notebooks/data_table.ipynb>data table notebook</a>'\n",
              "            + ' to learn more about interactive tables.';\n",
              "          element.innerHTML = '';\n",
              "          dataTable['output_type'] = 'display_data';\n",
              "          await google.colab.output.renderOutput(dataTable, element);\n",
              "          const docLink = document.createElement('div');\n",
              "          docLink.innerHTML = docLinkHtml;\n",
              "          element.appendChild(docLink);\n",
              "        }\n",
              "      </script>\n",
              "    </div>\n",
              "  </div>\n",
              "  "
            ]
          },
          "metadata": {},
          "execution_count": 2
        }
      ]
    },
    {
      "cell_type": "markdown",
      "source": [
        "### `Q-1:` Using `groupby` make groups using the `\"Pclass\"` column and find out the average age and total number of missing values in the `\"Age\"` column for every group."
      ],
      "metadata": {
        "id": "HsmRWKRoOa0-"
      }
    },
    {
      "cell_type": "code",
      "source": [
        "# code here\n",
        "pc=t1.groupby('Pclass')"
      ],
      "metadata": {
        "id": "OdPLAvd4OVS6"
      },
      "execution_count": 3,
      "outputs": []
    },
    {
      "cell_type": "code",
      "source": [
        "pc['Age'].mean()"
      ],
      "metadata": {
        "colab": {
          "base_uri": "https://localhost:8080/"
        },
        "id": "LRmxxBfKpQJ5",
        "outputId": "1083c404-4921-4cd3-9af1-96882c590395"
      },
      "execution_count": 4,
      "outputs": [
        {
          "output_type": "execute_result",
          "data": {
            "text/plain": [
              "Pclass\n",
              "1    38.233441\n",
              "2    29.877630\n",
              "3    25.140620\n",
              "Name: Age, dtype: float64"
            ]
          },
          "metadata": {},
          "execution_count": 4
        }
      ]
    },
    {
      "cell_type": "code",
      "source": [
        "t2=t1[t1['Age'].isnull()]"
      ],
      "metadata": {
        "id": "VrdxIp0np8-r"
      },
      "execution_count": 23,
      "outputs": []
    },
    {
      "cell_type": "code",
      "source": [
        "pc2=t2.groupby('Pclass')"
      ],
      "metadata": {
        "id": "Pn9blIARq9z7"
      },
      "execution_count": 24,
      "outputs": []
    },
    {
      "cell_type": "code",
      "source": [
        "pc2['PassengerId'].count()"
      ],
      "metadata": {
        "colab": {
          "base_uri": "https://localhost:8080/"
        },
        "id": "OLBqjoDQsaiY",
        "outputId": "8a3b2a96-6c7b-411d-98bb-c1edce9e4950"
      },
      "execution_count": 27,
      "outputs": [
        {
          "output_type": "execute_result",
          "data": {
            "text/plain": [
              "Pclass\n",
              "1     30\n",
              "2     11\n",
              "3    136\n",
              "Name: PassengerId, dtype: int64"
            ]
          },
          "metadata": {},
          "execution_count": 27
        }
      ]
    },
    {
      "cell_type": "markdown",
      "source": [
        "### `Q-2:` Using `groupby` make groups using the `\"Pclass\"` column and fill every group's `\"Embarked\"` column's missing values with the mode value of that group. After that, print every group's `\"Embarked\"` column's value counts in ascending order."
      ],
      "metadata": {
        "id": "CGBHGvCMOctq"
      }
    },
    {
      "cell_type": "code",
      "source": [
        "pc3=t1.groupby('Pclass')"
      ],
      "metadata": {
        "id": "gt8dcTr5pOtg"
      },
      "execution_count": 45,
      "outputs": []
    },
    {
      "cell_type": "code",
      "source": [
        "# pc3['Embarked'].fillna(pc3['Embarked'].mode()[0])\n",
        "# pc3['Fare'].mean()\n",
        "pc3['Embarked'].fillna(pc3['Embarked'].agg(lambda x:x.value_counts().index[0]),inplace=True)"
      ],
      "metadata": {
        "colab": {
          "base_uri": "https://localhost:8080/"
        },
        "id": "jmzl5evKyygA",
        "outputId": "e3a7a543-3a11-4929-ed94-c953d907e91b"
      },
      "execution_count": 66,
      "outputs": [
        {
          "output_type": "execute_result",
          "data": {
            "text/plain": [
              "Pclass\n",
              "1    None\n",
              "2    None\n",
              "3    None\n",
              "Name: Embarked, dtype: object"
            ]
          },
          "metadata": {},
          "execution_count": 66
        }
      ]
    },
    {
      "cell_type": "code",
      "source": [
        "pc3['Embarked'].value_counts()"
      ],
      "metadata": {
        "colab": {
          "base_uri": "https://localhost:8080/"
        },
        "id": "ORxcrjEj3b-G",
        "outputId": "ef011d40-b9fa-460e-a498-93bbd0c99057"
      },
      "execution_count": 67,
      "outputs": [
        {
          "output_type": "execute_result",
          "data": {
            "text/plain": [
              "Pclass  Embarked\n",
              "1       S           127\n",
              "        C            85\n",
              "        Q             2\n",
              "2       S           164\n",
              "        C            17\n",
              "        Q             3\n",
              "3       S           353\n",
              "        Q            72\n",
              "        C            66\n",
              "Name: Embarked, dtype: int64"
            ]
          },
          "metadata": {},
          "execution_count": 67
        }
      ]
    },
    {
      "cell_type": "code",
      "source": [
        "# code here\n",
        "t1['Embarked'].value_counts()"
      ],
      "metadata": {
        "id": "eOMciiM_OfPU",
        "colab": {
          "base_uri": "https://localhost:8080/"
        },
        "outputId": "5803171f-b554-4dfe-e207-3f1903b86561"
      },
      "execution_count": 63,
      "outputs": [
        {
          "output_type": "execute_result",
          "data": {
            "text/plain": [
              "S    644\n",
              "C    168\n",
              "Q     77\n",
              "Name: Embarked, dtype: int64"
            ]
          },
          "metadata": {},
          "execution_count": 63
        }
      ]
    },
    {
      "cell_type": "markdown",
      "source": [
        "### `Q-3:` Make groups based on `\"Embarked\"` column. And for each of this embarked group, make another group based on `\"Pclass\"` and find out the average fare (round off up to 2 decimal places) for each \"Pclass\" for each group of \"Embarked\".\n",
        "\n",
        "**Sample Output:**\n",
        "\n",
        "```bash\n",
        "{'C': {1: 105, 2: 25, 3: 11},\n",
        " 'Q': {1: 90, 2: 12, 3: 11},\n",
        " 'S': {1: 70, 2: 20, 3: 15}}\n",
        "```"
      ],
      "metadata": {
        "id": "3B4ieUtTOg2E"
      }
    },
    {
      "cell_type": "code",
      "source": [
        "t1.info()"
      ],
      "metadata": {
        "colab": {
          "base_uri": "https://localhost:8080/"
        },
        "id": "kQ3_1JrJ05Yu",
        "outputId": "75f67485-8f63-450a-8ac3-ffb520290b68"
      },
      "execution_count": 59,
      "outputs": [
        {
          "output_type": "stream",
          "name": "stdout",
          "text": [
            "<class 'pandas.core.frame.DataFrame'>\n",
            "RangeIndex: 891 entries, 0 to 890\n",
            "Data columns (total 12 columns):\n",
            " #   Column       Non-Null Count  Dtype  \n",
            "---  ------       --------------  -----  \n",
            " 0   PassengerId  891 non-null    int64  \n",
            " 1   Survived     891 non-null    int64  \n",
            " 2   Pclass       891 non-null    int64  \n",
            " 3   Name         891 non-null    object \n",
            " 4   Sex          891 non-null    object \n",
            " 5   Age          714 non-null    float64\n",
            " 6   SibSp        891 non-null    int64  \n",
            " 7   Parch        891 non-null    int64  \n",
            " 8   Ticket       891 non-null    object \n",
            " 9   Fare         891 non-null    float64\n",
            " 10  Cabin        204 non-null    object \n",
            " 11  Embarked     889 non-null    object \n",
            "dtypes: float64(2), int64(5), object(5)\n",
            "memory usage: 83.7+ KB\n"
          ]
        }
      ]
    },
    {
      "cell_type": "code",
      "source": [
        "em=t1.groupby(['Embarked','Pclass'])"
      ],
      "metadata": {
        "id": "pfz-hmaptXYa"
      },
      "execution_count": 29,
      "outputs": []
    },
    {
      "cell_type": "code",
      "source": [
        "# code here\n",
        "em['Fare'].mean().round(decimals=2)"
      ],
      "metadata": {
        "id": "rQvGcpCLOjEk",
        "colab": {
          "base_uri": "https://localhost:8080/"
        },
        "outputId": "5625e122-f2ff-4ca7-d925-03d40cba9615"
      },
      "execution_count": 31,
      "outputs": [
        {
          "output_type": "execute_result",
          "data": {
            "text/plain": [
              "Embarked  Pclass\n",
              "C         1         104.72\n",
              "          2          25.36\n",
              "          3          11.21\n",
              "Q         1          90.00\n",
              "          2          12.35\n",
              "          3          11.18\n",
              "S         1          70.36\n",
              "          2          20.33\n",
              "          3          14.64\n",
              "Name: Fare, dtype: float64"
            ]
          },
          "metadata": {},
          "execution_count": 31
        }
      ]
    },
    {
      "cell_type": "markdown",
      "source": [
        "## **Questions Based on Fifa Worldcup - 2022 Dataset:**\n",
        "\n",
        "You can read the dataset by using the below sample code\n",
        "\n",
        "```python\n",
        "import pandas as pd\n",
        "\n",
        "fifa_df = pd.read_csv(\"https://docs.google.com/spreadsheets/d/e/2PACX-1vT3D_x_4DS6d51LKJ7ze1sxT5WpV5uiSVOFYHLwBiGru6vFyVv5h5-83AwFjxWYiWfCDjDAaarHAV-k/pub?gid=0&single=true&output=csv\")\n",
        "```"
      ],
      "metadata": {
        "id": "iS6vHZUIOnJy"
      }
    },
    {
      "cell_type": "code",
      "source": [
        "import pandas as pd\n",
        "\n",
        "f = pd.read_csv(\"https://docs.google.com/spreadsheets/d/e/2PACX-1vT3D_x_4DS6d51LKJ7ze1sxT5WpV5uiSVOFYHLwBiGru6vFyVv5h5-83AwFjxWYiWfCDjDAaarHAV-k/pub?gid=0&single=true&output=csv\")"
      ],
      "metadata": {
        "id": "mxyNMwbg9Jnh"
      },
      "execution_count": 72,
      "outputs": []
    },
    {
      "cell_type": "code",
      "source": [
        "f.info()"
      ],
      "metadata": {
        "id": "6CVksU7b9cai",
        "outputId": "d1802e45-5a4a-4dd1-b35b-281104c17582",
        "colab": {
          "base_uri": "https://localhost:8080/"
        }
      },
      "execution_count": 77,
      "outputs": [
        {
          "output_type": "stream",
          "name": "stdout",
          "text": [
            "<class 'pandas.core.frame.DataFrame'>\n",
            "RangeIndex: 128 entries, 0 to 127\n",
            "Data columns (total 38 columns):\n",
            " #   Column                           Non-Null Count  Dtype \n",
            "---  ------                           --------------  ----- \n",
            " 0   Sl. No                           128 non-null    int64 \n",
            " 1   Match No.                        128 non-null    int64 \n",
            " 2   Team                             128 non-null    object\n",
            " 3   Against                          128 non-null    object\n",
            " 4   Group                            128 non-null    object\n",
            " 5   Goal                             128 non-null    int64 \n",
            " 6   Possession (%)                   128 non-null    int64 \n",
            " 7   Inside Penalty Area              128 non-null    int64 \n",
            " 8   Outside Penalty Area             128 non-null    int64 \n",
            " 9   Assists                          128 non-null    int64 \n",
            " 10  Total Attempts                   128 non-null    int64 \n",
            " 11  On Target                        128 non-null    int64 \n",
            " 12  Off Target                       128 non-null    int64 \n",
            " 13  Target in Penalty                128 non-null    int64 \n",
            " 14  Target from Outside              128 non-null    int64 \n",
            " 15  Left Channel                     128 non-null    int64 \n",
            " 16  Left Inside Channel              128 non-null    int64 \n",
            " 17  Central Channel                  128 non-null    int64 \n",
            " 18  Right Inside Channel             128 non-null    int64 \n",
            " 19  Right Channel                    128 non-null    int64 \n",
            " 20  Receptions MD                    128 non-null    int64 \n",
            " 21  Receptions D                     128 non-null    int64 \n",
            " 22  Attempted Line Breaks            128 non-null    int64 \n",
            " 23  Completed Line Breaks            128 non-null    int64 \n",
            " 24  Attempted Defensive Line Breaks  128 non-null    int64 \n",
            " 25  Completed Defensive Line Breaks  128 non-null    int64 \n",
            " 26  Yellow Cards                     128 non-null    int64 \n",
            " 27  Red Cards                        128 non-null    int64 \n",
            " 28  Fouls Against                    128 non-null    int64 \n",
            " 29  Offsides                         128 non-null    int64 \n",
            " 30  Passes                           128 non-null    int64 \n",
            " 31  Passes Completed                 128 non-null    int64 \n",
            " 32  Crosses                          128 non-null    int64 \n",
            " 33  Crosses Completed                128 non-null    int64 \n",
            " 34  Corners                          128 non-null    int64 \n",
            " 35  Free Kicks                       128 non-null    int64 \n",
            " 36  Penalties Scored                 128 non-null    int64 \n",
            " 37  Pts                              128 non-null    int64 \n",
            "dtypes: int64(35), object(3)\n",
            "memory usage: 38.1+ KB\n"
          ]
        }
      ]
    },
    {
      "cell_type": "markdown",
      "source": [
        "### `Q-4:` Perform `groupby` based on the `\"Team\"` column and then perform Z Normalization on top of the below columns of each group:\n",
        "1. Passes\n",
        "2. Passes Completed\n",
        "3. Attempted Line Breaks\n",
        "4. Completed Line Breaks\n",
        "\n",
        "You have to make a python function named `z_normalization` which takes two arguments:\n",
        "\n",
        "1. *group:* Every group that you have created\n",
        "2. *cols_to_perform:* This parameter takes a list of columns on which you have to perform the Z-Normalization.\n",
        "\n",
        "For this problem, you have to use th `apply()` method.\n",
        "\n",
        "$\\Large Z \\ - \\ Normalization = \\frac{X_i - \\mu}{std} $\n",
        "\n",
        "After that find out the below values for each group:\n",
        "- minimum \"Passess\"\n",
        "- maximum \"Passess\"\n",
        "- minimum \"Yellow Cards\"\n",
        "- maximum \"Yellow cards\"\n",
        "- average \"Yellow Cards\"\n",
        "- maximum \"Attempted Line Breaks\"\n",
        "- minimum \"Attempted Line Breaks\"\n",
        "- standardard deviation of \"Attempted Line Breaks\"\n",
        "- average Possession"
      ],
      "metadata": {
        "id": "3GPZOvh5Oqhp"
      }
    },
    {
      "cell_type": "code",
      "source": [
        "# code here"
      ],
      "metadata": {
        "id": "OuGLcl3EOnxY"
      },
      "execution_count": null,
      "outputs": []
    },
    {
      "cell_type": "markdown",
      "source": [
        "## **Questions on IPL wala dataset**\n",
        "\n",
        "ball by ball dataset - https://drive.google.com/file/d/1-kvv_9KCSAFWcrhS9WgTxSrURkRh6GNt/view?usp=share_link\n",
        "\n",
        "\n",
        "\n"
      ],
      "metadata": {
        "id": "RPjqA-OtOxDD"
      }
    },
    {
      "cell_type": "markdown",
      "source": [
        "###`Q-5:` Find batsman in below category-\n",
        "* Highest score while chasing\n",
        "* Best Strike rate while chasing and have faced 100+ balls\n",
        "\n",
        "\n",
        "> Chasing mean team batting in second inning"
      ],
      "metadata": {
        "id": "IeQpV8A2O0IR"
      }
    },
    {
      "cell_type": "code",
      "source": [
        "# code here\n",
        "ipl=pd.read_csv('/content/ipl_deliveries.csv')\n",
        "ipl.head(1)"
      ],
      "metadata": {
        "id": "nwa-adpMOxl4",
        "colab": {
          "base_uri": "https://localhost:8080/",
          "height": 197
        },
        "outputId": "accee9bd-b93d-4fa6-a1ea-1efc9f49a830"
      },
      "execution_count": 89,
      "outputs": [
        {
          "output_type": "execute_result",
          "data": {
            "text/plain": [
              "        ID                            Team  innings  overs  ballnumber  \\\n",
              "0  1312200  Rajasthan RoyalsGujarat Titans        1      0           1   \n",
              "\n",
              "        batter          bowler non-striker extra_type  batsman_run  \\\n",
              "0  YBK Jaiswal  Mohammed Shami  JC Buttler        NaN            0   \n",
              "\n",
              "   extras_run  total_run  non_boundary  isWicketDelivery player_out kind  \\\n",
              "0           0          0             0                 0        NaN  NaN   \n",
              "\n",
              "  fielders_involved       BattingTeam     BowlingTeam  \n",
              "0               NaN  Rajasthan Royals  Gujarat Titans  "
            ],
            "text/html": [
              "\n",
              "  <div id=\"df-e1f79abe-a980-4abb-9c03-6166ae5ba3ec\">\n",
              "    <div class=\"colab-df-container\">\n",
              "      <div>\n",
              "<style scoped>\n",
              "    .dataframe tbody tr th:only-of-type {\n",
              "        vertical-align: middle;\n",
              "    }\n",
              "\n",
              "    .dataframe tbody tr th {\n",
              "        vertical-align: top;\n",
              "    }\n",
              "\n",
              "    .dataframe thead th {\n",
              "        text-align: right;\n",
              "    }\n",
              "</style>\n",
              "<table border=\"1\" class=\"dataframe\">\n",
              "  <thead>\n",
              "    <tr style=\"text-align: right;\">\n",
              "      <th></th>\n",
              "      <th>ID</th>\n",
              "      <th>Team</th>\n",
              "      <th>innings</th>\n",
              "      <th>overs</th>\n",
              "      <th>ballnumber</th>\n",
              "      <th>batter</th>\n",
              "      <th>bowler</th>\n",
              "      <th>non-striker</th>\n",
              "      <th>extra_type</th>\n",
              "      <th>batsman_run</th>\n",
              "      <th>extras_run</th>\n",
              "      <th>total_run</th>\n",
              "      <th>non_boundary</th>\n",
              "      <th>isWicketDelivery</th>\n",
              "      <th>player_out</th>\n",
              "      <th>kind</th>\n",
              "      <th>fielders_involved</th>\n",
              "      <th>BattingTeam</th>\n",
              "      <th>BowlingTeam</th>\n",
              "    </tr>\n",
              "  </thead>\n",
              "  <tbody>\n",
              "    <tr>\n",
              "      <th>0</th>\n",
              "      <td>1312200</td>\n",
              "      <td>Rajasthan RoyalsGujarat Titans</td>\n",
              "      <td>1</td>\n",
              "      <td>0</td>\n",
              "      <td>1</td>\n",
              "      <td>YBK Jaiswal</td>\n",
              "      <td>Mohammed Shami</td>\n",
              "      <td>JC Buttler</td>\n",
              "      <td>NaN</td>\n",
              "      <td>0</td>\n",
              "      <td>0</td>\n",
              "      <td>0</td>\n",
              "      <td>0</td>\n",
              "      <td>0</td>\n",
              "      <td>NaN</td>\n",
              "      <td>NaN</td>\n",
              "      <td>NaN</td>\n",
              "      <td>Rajasthan Royals</td>\n",
              "      <td>Gujarat Titans</td>\n",
              "    </tr>\n",
              "  </tbody>\n",
              "</table>\n",
              "</div>\n",
              "      <button class=\"colab-df-convert\" onclick=\"convertToInteractive('df-e1f79abe-a980-4abb-9c03-6166ae5ba3ec')\"\n",
              "              title=\"Convert this dataframe to an interactive table.\"\n",
              "              style=\"display:none;\">\n",
              "        \n",
              "  <svg xmlns=\"http://www.w3.org/2000/svg\" height=\"24px\"viewBox=\"0 0 24 24\"\n",
              "       width=\"24px\">\n",
              "    <path d=\"M0 0h24v24H0V0z\" fill=\"none\"/>\n",
              "    <path d=\"M18.56 5.44l.94 2.06.94-2.06 2.06-.94-2.06-.94-.94-2.06-.94 2.06-2.06.94zm-11 1L8.5 8.5l.94-2.06 2.06-.94-2.06-.94L8.5 2.5l-.94 2.06-2.06.94zm10 10l.94 2.06.94-2.06 2.06-.94-2.06-.94-.94-2.06-.94 2.06-2.06.94z\"/><path d=\"M17.41 7.96l-1.37-1.37c-.4-.4-.92-.59-1.43-.59-.52 0-1.04.2-1.43.59L10.3 9.45l-7.72 7.72c-.78.78-.78 2.05 0 2.83L4 21.41c.39.39.9.59 1.41.59.51 0 1.02-.2 1.41-.59l7.78-7.78 2.81-2.81c.8-.78.8-2.07 0-2.86zM5.41 20L4 18.59l7.72-7.72 1.47 1.35L5.41 20z\"/>\n",
              "  </svg>\n",
              "      </button>\n",
              "      \n",
              "  <style>\n",
              "    .colab-df-container {\n",
              "      display:flex;\n",
              "      flex-wrap:wrap;\n",
              "      gap: 12px;\n",
              "    }\n",
              "\n",
              "    .colab-df-convert {\n",
              "      background-color: #E8F0FE;\n",
              "      border: none;\n",
              "      border-radius: 50%;\n",
              "      cursor: pointer;\n",
              "      display: none;\n",
              "      fill: #1967D2;\n",
              "      height: 32px;\n",
              "      padding: 0 0 0 0;\n",
              "      width: 32px;\n",
              "    }\n",
              "\n",
              "    .colab-df-convert:hover {\n",
              "      background-color: #E2EBFA;\n",
              "      box-shadow: 0px 1px 2px rgba(60, 64, 67, 0.3), 0px 1px 3px 1px rgba(60, 64, 67, 0.15);\n",
              "      fill: #174EA6;\n",
              "    }\n",
              "\n",
              "    [theme=dark] .colab-df-convert {\n",
              "      background-color: #3B4455;\n",
              "      fill: #D2E3FC;\n",
              "    }\n",
              "\n",
              "    [theme=dark] .colab-df-convert:hover {\n",
              "      background-color: #434B5C;\n",
              "      box-shadow: 0px 1px 3px 1px rgba(0, 0, 0, 0.15);\n",
              "      filter: drop-shadow(0px 1px 2px rgba(0, 0, 0, 0.3));\n",
              "      fill: #FFFFFF;\n",
              "    }\n",
              "  </style>\n",
              "\n",
              "      <script>\n",
              "        const buttonEl =\n",
              "          document.querySelector('#df-e1f79abe-a980-4abb-9c03-6166ae5ba3ec button.colab-df-convert');\n",
              "        buttonEl.style.display =\n",
              "          google.colab.kernel.accessAllowed ? 'block' : 'none';\n",
              "\n",
              "        async function convertToInteractive(key) {\n",
              "          const element = document.querySelector('#df-e1f79abe-a980-4abb-9c03-6166ae5ba3ec');\n",
              "          const dataTable =\n",
              "            await google.colab.kernel.invokeFunction('convertToInteractive',\n",
              "                                                     [key], {});\n",
              "          if (!dataTable) return;\n",
              "\n",
              "          const docLinkHtml = 'Like what you see? Visit the ' +\n",
              "            '<a target=\"_blank\" href=https://colab.research.google.com/notebooks/data_table.ipynb>data table notebook</a>'\n",
              "            + ' to learn more about interactive tables.';\n",
              "          element.innerHTML = '';\n",
              "          dataTable['output_type'] = 'display_data';\n",
              "          await google.colab.output.renderOutput(dataTable, element);\n",
              "          const docLink = document.createElement('div');\n",
              "          docLink.innerHTML = docLinkHtml;\n",
              "          element.appendChild(docLink);\n",
              "        }\n",
              "      </script>\n",
              "    </div>\n",
              "  </div>\n",
              "  "
            ]
          },
          "metadata": {},
          "execution_count": 89
        }
      ]
    },
    {
      "cell_type": "code",
      "source": [
        "#5.1\n",
        "x=ipl[ipl['innings']==2].groupby(['ID','BattingTeam'])['total_run'].sum().sort_values(ascending=False).head(1).reset_index()"
      ],
      "metadata": {
        "id": "JCDUr6I2F3Qj"
      },
      "execution_count": 98,
      "outputs": []
    },
    {
      "cell_type": "code",
      "source": [
        "#5.2\n",
        "y=ipl[ipl['innings']==2].groupby(['ID','BattingTeam','batter'])['total_run'].sum().sort_values(ascending=False).reset_index()\n",
        "y\n"
      ],
      "metadata": {
        "id": "wYmBEb8TKsjo",
        "outputId": "d9a67a92-c2b9-42a1-e270-d11f34deddac",
        "colab": {
          "base_uri": "https://localhost:8080/",
          "height": 423
        }
      },
      "execution_count": 102,
      "outputs": [
        {
          "output_type": "execute_result",
          "data": {
            "text/plain": [
              "           ID                  BattingTeam         batter  total_run\n",
              "0     1254061             Rajasthan Royals      SV Samson        124\n",
              "1      501243             Delhi Daredevils       V Sehwag        122\n",
              "2      336018               Mumbai Indians  ST Jayasuriya        122\n",
              "3      501206              Kings XI Punjab    PC Valthaty        121\n",
              "4     1136620          Chennai Super Kings      SR Watson        121\n",
              "...       ...                          ...            ...        ...\n",
              "6967   829821          Chennai Super Kings       DJ Bravo          0\n",
              "6968  1254099               Mumbai Indians       SA Yadav          0\n",
              "6969  1254100          Sunrisers Hyderabad        PK Garg          0\n",
              "6970  1254101  Royal Challengers Bangalore     D Padikkal          0\n",
              "6971   829821          Chennai Super Kings       SK Raina          0\n",
              "\n",
              "[6972 rows x 4 columns]"
            ],
            "text/html": [
              "\n",
              "  <div id=\"df-fddd0a0c-e921-487a-8b2f-47f770cd4479\">\n",
              "    <div class=\"colab-df-container\">\n",
              "      <div>\n",
              "<style scoped>\n",
              "    .dataframe tbody tr th:only-of-type {\n",
              "        vertical-align: middle;\n",
              "    }\n",
              "\n",
              "    .dataframe tbody tr th {\n",
              "        vertical-align: top;\n",
              "    }\n",
              "\n",
              "    .dataframe thead th {\n",
              "        text-align: right;\n",
              "    }\n",
              "</style>\n",
              "<table border=\"1\" class=\"dataframe\">\n",
              "  <thead>\n",
              "    <tr style=\"text-align: right;\">\n",
              "      <th></th>\n",
              "      <th>ID</th>\n",
              "      <th>BattingTeam</th>\n",
              "      <th>batter</th>\n",
              "      <th>total_run</th>\n",
              "    </tr>\n",
              "  </thead>\n",
              "  <tbody>\n",
              "    <tr>\n",
              "      <th>0</th>\n",
              "      <td>1254061</td>\n",
              "      <td>Rajasthan Royals</td>\n",
              "      <td>SV Samson</td>\n",
              "      <td>124</td>\n",
              "    </tr>\n",
              "    <tr>\n",
              "      <th>1</th>\n",
              "      <td>501243</td>\n",
              "      <td>Delhi Daredevils</td>\n",
              "      <td>V Sehwag</td>\n",
              "      <td>122</td>\n",
              "    </tr>\n",
              "    <tr>\n",
              "      <th>2</th>\n",
              "      <td>336018</td>\n",
              "      <td>Mumbai Indians</td>\n",
              "      <td>ST Jayasuriya</td>\n",
              "      <td>122</td>\n",
              "    </tr>\n",
              "    <tr>\n",
              "      <th>3</th>\n",
              "      <td>501206</td>\n",
              "      <td>Kings XI Punjab</td>\n",
              "      <td>PC Valthaty</td>\n",
              "      <td>121</td>\n",
              "    </tr>\n",
              "    <tr>\n",
              "      <th>4</th>\n",
              "      <td>1136620</td>\n",
              "      <td>Chennai Super Kings</td>\n",
              "      <td>SR Watson</td>\n",
              "      <td>121</td>\n",
              "    </tr>\n",
              "    <tr>\n",
              "      <th>...</th>\n",
              "      <td>...</td>\n",
              "      <td>...</td>\n",
              "      <td>...</td>\n",
              "      <td>...</td>\n",
              "    </tr>\n",
              "    <tr>\n",
              "      <th>6967</th>\n",
              "      <td>829821</td>\n",
              "      <td>Chennai Super Kings</td>\n",
              "      <td>DJ Bravo</td>\n",
              "      <td>0</td>\n",
              "    </tr>\n",
              "    <tr>\n",
              "      <th>6968</th>\n",
              "      <td>1254099</td>\n",
              "      <td>Mumbai Indians</td>\n",
              "      <td>SA Yadav</td>\n",
              "      <td>0</td>\n",
              "    </tr>\n",
              "    <tr>\n",
              "      <th>6969</th>\n",
              "      <td>1254100</td>\n",
              "      <td>Sunrisers Hyderabad</td>\n",
              "      <td>PK Garg</td>\n",
              "      <td>0</td>\n",
              "    </tr>\n",
              "    <tr>\n",
              "      <th>6970</th>\n",
              "      <td>1254101</td>\n",
              "      <td>Royal Challengers Bangalore</td>\n",
              "      <td>D Padikkal</td>\n",
              "      <td>0</td>\n",
              "    </tr>\n",
              "    <tr>\n",
              "      <th>6971</th>\n",
              "      <td>829821</td>\n",
              "      <td>Chennai Super Kings</td>\n",
              "      <td>SK Raina</td>\n",
              "      <td>0</td>\n",
              "    </tr>\n",
              "  </tbody>\n",
              "</table>\n",
              "<p>6972 rows × 4 columns</p>\n",
              "</div>\n",
              "      <button class=\"colab-df-convert\" onclick=\"convertToInteractive('df-fddd0a0c-e921-487a-8b2f-47f770cd4479')\"\n",
              "              title=\"Convert this dataframe to an interactive table.\"\n",
              "              style=\"display:none;\">\n",
              "        \n",
              "  <svg xmlns=\"http://www.w3.org/2000/svg\" height=\"24px\"viewBox=\"0 0 24 24\"\n",
              "       width=\"24px\">\n",
              "    <path d=\"M0 0h24v24H0V0z\" fill=\"none\"/>\n",
              "    <path d=\"M18.56 5.44l.94 2.06.94-2.06 2.06-.94-2.06-.94-.94-2.06-.94 2.06-2.06.94zm-11 1L8.5 8.5l.94-2.06 2.06-.94-2.06-.94L8.5 2.5l-.94 2.06-2.06.94zm10 10l.94 2.06.94-2.06 2.06-.94-2.06-.94-.94-2.06-.94 2.06-2.06.94z\"/><path d=\"M17.41 7.96l-1.37-1.37c-.4-.4-.92-.59-1.43-.59-.52 0-1.04.2-1.43.59L10.3 9.45l-7.72 7.72c-.78.78-.78 2.05 0 2.83L4 21.41c.39.39.9.59 1.41.59.51 0 1.02-.2 1.41-.59l7.78-7.78 2.81-2.81c.8-.78.8-2.07 0-2.86zM5.41 20L4 18.59l7.72-7.72 1.47 1.35L5.41 20z\"/>\n",
              "  </svg>\n",
              "      </button>\n",
              "      \n",
              "  <style>\n",
              "    .colab-df-container {\n",
              "      display:flex;\n",
              "      flex-wrap:wrap;\n",
              "      gap: 12px;\n",
              "    }\n",
              "\n",
              "    .colab-df-convert {\n",
              "      background-color: #E8F0FE;\n",
              "      border: none;\n",
              "      border-radius: 50%;\n",
              "      cursor: pointer;\n",
              "      display: none;\n",
              "      fill: #1967D2;\n",
              "      height: 32px;\n",
              "      padding: 0 0 0 0;\n",
              "      width: 32px;\n",
              "    }\n",
              "\n",
              "    .colab-df-convert:hover {\n",
              "      background-color: #E2EBFA;\n",
              "      box-shadow: 0px 1px 2px rgba(60, 64, 67, 0.3), 0px 1px 3px 1px rgba(60, 64, 67, 0.15);\n",
              "      fill: #174EA6;\n",
              "    }\n",
              "\n",
              "    [theme=dark] .colab-df-convert {\n",
              "      background-color: #3B4455;\n",
              "      fill: #D2E3FC;\n",
              "    }\n",
              "\n",
              "    [theme=dark] .colab-df-convert:hover {\n",
              "      background-color: #434B5C;\n",
              "      box-shadow: 0px 1px 3px 1px rgba(0, 0, 0, 0.15);\n",
              "      filter: drop-shadow(0px 1px 2px rgba(0, 0, 0, 0.3));\n",
              "      fill: #FFFFFF;\n",
              "    }\n",
              "  </style>\n",
              "\n",
              "      <script>\n",
              "        const buttonEl =\n",
              "          document.querySelector('#df-fddd0a0c-e921-487a-8b2f-47f770cd4479 button.colab-df-convert');\n",
              "        buttonEl.style.display =\n",
              "          google.colab.kernel.accessAllowed ? 'block' : 'none';\n",
              "\n",
              "        async function convertToInteractive(key) {\n",
              "          const element = document.querySelector('#df-fddd0a0c-e921-487a-8b2f-47f770cd4479');\n",
              "          const dataTable =\n",
              "            await google.colab.kernel.invokeFunction('convertToInteractive',\n",
              "                                                     [key], {});\n",
              "          if (!dataTable) return;\n",
              "\n",
              "          const docLinkHtml = 'Like what you see? Visit the ' +\n",
              "            '<a target=\"_blank\" href=https://colab.research.google.com/notebooks/data_table.ipynb>data table notebook</a>'\n",
              "            + ' to learn more about interactive tables.';\n",
              "          element.innerHTML = '';\n",
              "          dataTable['output_type'] = 'display_data';\n",
              "          await google.colab.output.renderOutput(dataTable, element);\n",
              "          const docLink = document.createElement('div');\n",
              "          docLink.innerHTML = docLinkHtml;\n",
              "          element.appendChild(docLink);\n",
              "        }\n",
              "      </script>\n",
              "    </div>\n",
              "  </div>\n",
              "  "
            ]
          },
          "metadata": {},
          "execution_count": 102
        }
      ]
    },
    {
      "cell_type": "code",
      "source": [
        "y=ipl[ipl['innings']==2].groupby(['ID','BattingTeam','batter'])['ballnumber'].sum().sort_values(ascending=False).reset_index()\n",
        "y"
      ],
      "metadata": {
        "id": "prWjjfv7PTUb",
        "outputId": "3fdf3a30-d351-43af-885b-6cce3c37882e",
        "colab": {
          "base_uri": "https://localhost:8080/",
          "height": 423
        }
      },
      "execution_count": 103,
      "outputs": [
        {
          "output_type": "execute_result",
          "data": {
            "text/plain": [
              "           ID            BattingTeam        batter  ballnumber\n",
              "0     1254061       Rajasthan Royals     SV Samson         254\n",
              "1     1136600        Kings XI Punjab      KL Rahul         253\n",
              "2      548321       Delhi Daredevils  KP Pietersen         241\n",
              "3      392203  Kolkata Knight Riders      BJ Hodge         240\n",
              "4     1181768    Chennai Super Kings     SR Watson         240\n",
              "...       ...                    ...           ...         ...\n",
              "6967   501241          Pune Warriors      JD Ryder           1\n",
              "6968   392197  Kolkata Knight Riders    BAW Mendis           1\n",
              "6969   980939  Kolkata Knight Riders    RV Uthappa           1\n",
              "6970   501202          Pune Warriors      GC Smith           1\n",
              "6971   501244        Kings XI Punjab  AC Gilchrist           1\n",
              "\n",
              "[6972 rows x 4 columns]"
            ],
            "text/html": [
              "\n",
              "  <div id=\"df-165ed1ad-6ed7-46cf-8e87-0e87660b0bb0\">\n",
              "    <div class=\"colab-df-container\">\n",
              "      <div>\n",
              "<style scoped>\n",
              "    .dataframe tbody tr th:only-of-type {\n",
              "        vertical-align: middle;\n",
              "    }\n",
              "\n",
              "    .dataframe tbody tr th {\n",
              "        vertical-align: top;\n",
              "    }\n",
              "\n",
              "    .dataframe thead th {\n",
              "        text-align: right;\n",
              "    }\n",
              "</style>\n",
              "<table border=\"1\" class=\"dataframe\">\n",
              "  <thead>\n",
              "    <tr style=\"text-align: right;\">\n",
              "      <th></th>\n",
              "      <th>ID</th>\n",
              "      <th>BattingTeam</th>\n",
              "      <th>batter</th>\n",
              "      <th>ballnumber</th>\n",
              "    </tr>\n",
              "  </thead>\n",
              "  <tbody>\n",
              "    <tr>\n",
              "      <th>0</th>\n",
              "      <td>1254061</td>\n",
              "      <td>Rajasthan Royals</td>\n",
              "      <td>SV Samson</td>\n",
              "      <td>254</td>\n",
              "    </tr>\n",
              "    <tr>\n",
              "      <th>1</th>\n",
              "      <td>1136600</td>\n",
              "      <td>Kings XI Punjab</td>\n",
              "      <td>KL Rahul</td>\n",
              "      <td>253</td>\n",
              "    </tr>\n",
              "    <tr>\n",
              "      <th>2</th>\n",
              "      <td>548321</td>\n",
              "      <td>Delhi Daredevils</td>\n",
              "      <td>KP Pietersen</td>\n",
              "      <td>241</td>\n",
              "    </tr>\n",
              "    <tr>\n",
              "      <th>3</th>\n",
              "      <td>392203</td>\n",
              "      <td>Kolkata Knight Riders</td>\n",
              "      <td>BJ Hodge</td>\n",
              "      <td>240</td>\n",
              "    </tr>\n",
              "    <tr>\n",
              "      <th>4</th>\n",
              "      <td>1181768</td>\n",
              "      <td>Chennai Super Kings</td>\n",
              "      <td>SR Watson</td>\n",
              "      <td>240</td>\n",
              "    </tr>\n",
              "    <tr>\n",
              "      <th>...</th>\n",
              "      <td>...</td>\n",
              "      <td>...</td>\n",
              "      <td>...</td>\n",
              "      <td>...</td>\n",
              "    </tr>\n",
              "    <tr>\n",
              "      <th>6967</th>\n",
              "      <td>501241</td>\n",
              "      <td>Pune Warriors</td>\n",
              "      <td>JD Ryder</td>\n",
              "      <td>1</td>\n",
              "    </tr>\n",
              "    <tr>\n",
              "      <th>6968</th>\n",
              "      <td>392197</td>\n",
              "      <td>Kolkata Knight Riders</td>\n",
              "      <td>BAW Mendis</td>\n",
              "      <td>1</td>\n",
              "    </tr>\n",
              "    <tr>\n",
              "      <th>6969</th>\n",
              "      <td>980939</td>\n",
              "      <td>Kolkata Knight Riders</td>\n",
              "      <td>RV Uthappa</td>\n",
              "      <td>1</td>\n",
              "    </tr>\n",
              "    <tr>\n",
              "      <th>6970</th>\n",
              "      <td>501202</td>\n",
              "      <td>Pune Warriors</td>\n",
              "      <td>GC Smith</td>\n",
              "      <td>1</td>\n",
              "    </tr>\n",
              "    <tr>\n",
              "      <th>6971</th>\n",
              "      <td>501244</td>\n",
              "      <td>Kings XI Punjab</td>\n",
              "      <td>AC Gilchrist</td>\n",
              "      <td>1</td>\n",
              "    </tr>\n",
              "  </tbody>\n",
              "</table>\n",
              "<p>6972 rows × 4 columns</p>\n",
              "</div>\n",
              "      <button class=\"colab-df-convert\" onclick=\"convertToInteractive('df-165ed1ad-6ed7-46cf-8e87-0e87660b0bb0')\"\n",
              "              title=\"Convert this dataframe to an interactive table.\"\n",
              "              style=\"display:none;\">\n",
              "        \n",
              "  <svg xmlns=\"http://www.w3.org/2000/svg\" height=\"24px\"viewBox=\"0 0 24 24\"\n",
              "       width=\"24px\">\n",
              "    <path d=\"M0 0h24v24H0V0z\" fill=\"none\"/>\n",
              "    <path d=\"M18.56 5.44l.94 2.06.94-2.06 2.06-.94-2.06-.94-.94-2.06-.94 2.06-2.06.94zm-11 1L8.5 8.5l.94-2.06 2.06-.94-2.06-.94L8.5 2.5l-.94 2.06-2.06.94zm10 10l.94 2.06.94-2.06 2.06-.94-2.06-.94-.94-2.06-.94 2.06-2.06.94z\"/><path d=\"M17.41 7.96l-1.37-1.37c-.4-.4-.92-.59-1.43-.59-.52 0-1.04.2-1.43.59L10.3 9.45l-7.72 7.72c-.78.78-.78 2.05 0 2.83L4 21.41c.39.39.9.59 1.41.59.51 0 1.02-.2 1.41-.59l7.78-7.78 2.81-2.81c.8-.78.8-2.07 0-2.86zM5.41 20L4 18.59l7.72-7.72 1.47 1.35L5.41 20z\"/>\n",
              "  </svg>\n",
              "      </button>\n",
              "      \n",
              "  <style>\n",
              "    .colab-df-container {\n",
              "      display:flex;\n",
              "      flex-wrap:wrap;\n",
              "      gap: 12px;\n",
              "    }\n",
              "\n",
              "    .colab-df-convert {\n",
              "      background-color: #E8F0FE;\n",
              "      border: none;\n",
              "      border-radius: 50%;\n",
              "      cursor: pointer;\n",
              "      display: none;\n",
              "      fill: #1967D2;\n",
              "      height: 32px;\n",
              "      padding: 0 0 0 0;\n",
              "      width: 32px;\n",
              "    }\n",
              "\n",
              "    .colab-df-convert:hover {\n",
              "      background-color: #E2EBFA;\n",
              "      box-shadow: 0px 1px 2px rgba(60, 64, 67, 0.3), 0px 1px 3px 1px rgba(60, 64, 67, 0.15);\n",
              "      fill: #174EA6;\n",
              "    }\n",
              "\n",
              "    [theme=dark] .colab-df-convert {\n",
              "      background-color: #3B4455;\n",
              "      fill: #D2E3FC;\n",
              "    }\n",
              "\n",
              "    [theme=dark] .colab-df-convert:hover {\n",
              "      background-color: #434B5C;\n",
              "      box-shadow: 0px 1px 3px 1px rgba(0, 0, 0, 0.15);\n",
              "      filter: drop-shadow(0px 1px 2px rgba(0, 0, 0, 0.3));\n",
              "      fill: #FFFFFF;\n",
              "    }\n",
              "  </style>\n",
              "\n",
              "      <script>\n",
              "        const buttonEl =\n",
              "          document.querySelector('#df-165ed1ad-6ed7-46cf-8e87-0e87660b0bb0 button.colab-df-convert');\n",
              "        buttonEl.style.display =\n",
              "          google.colab.kernel.accessAllowed ? 'block' : 'none';\n",
              "\n",
              "        async function convertToInteractive(key) {\n",
              "          const element = document.querySelector('#df-165ed1ad-6ed7-46cf-8e87-0e87660b0bb0');\n",
              "          const dataTable =\n",
              "            await google.colab.kernel.invokeFunction('convertToInteractive',\n",
              "                                                     [key], {});\n",
              "          if (!dataTable) return;\n",
              "\n",
              "          const docLinkHtml = 'Like what you see? Visit the ' +\n",
              "            '<a target=\"_blank\" href=https://colab.research.google.com/notebooks/data_table.ipynb>data table notebook</a>'\n",
              "            + ' to learn more about interactive tables.';\n",
              "          element.innerHTML = '';\n",
              "          dataTable['output_type'] = 'display_data';\n",
              "          await google.colab.output.renderOutput(dataTable, element);\n",
              "          const docLink = document.createElement('div');\n",
              "          docLink.innerHTML = docLinkHtml;\n",
              "          element.appendChild(docLink);\n",
              "        }\n",
              "      </script>\n",
              "    </div>\n",
              "  </div>\n",
              "  "
            ]
          },
          "metadata": {},
          "execution_count": 103
        }
      ]
    },
    {
      "cell_type": "markdown",
      "source": [
        "###`Q-6` Most Successful bowler against any batsman. Find that pair of bowler and batsman.\n",
        "> Most Successful in terms of dissmissal. A bowler who have dissmissed any batsman most no of times. If any two pairs have same no of dissmisal, consider runs conceded by bowler to that batsman. Those who have concede lesser runs is more successful."
      ],
      "metadata": {
        "id": "Wr443WT0O2Qw"
      }
    },
    {
      "cell_type": "code",
      "source": [
        "# code here"
      ],
      "metadata": {
        "id": "oG1P4PT8O4u4"
      },
      "execution_count": null,
      "outputs": []
    },
    {
      "cell_type": "markdown",
      "source": [
        "###`Q-7`: Most successful batting pair in IPL. Batting pair who have scored most runs playing together.\n"
      ],
      "metadata": {
        "id": "7BP2EDkNO6KM"
      }
    },
    {
      "cell_type": "code",
      "source": [
        "# code here"
      ],
      "metadata": {
        "id": "lRlbTuarO80s"
      },
      "execution_count": null,
      "outputs": []
    },
    {
      "cell_type": "markdown",
      "source": [
        "###`Q-8:` Make a dataframe for all batting pairs played together.\n",
        "```\n",
        "Batsman1 Batsman2 Runs Avg StrikeRate\n",
        "```\n",
        "\n",
        "> Just to ease this question you can count wide-balls for strike rate."
      ],
      "metadata": {
        "id": "gVJ2CnAxO-b0"
      }
    },
    {
      "cell_type": "code",
      "source": [
        "# code here"
      ],
      "metadata": {
        "id": "S0bgMx_dPA9Y"
      },
      "execution_count": null,
      "outputs": []
    }
  ]
}