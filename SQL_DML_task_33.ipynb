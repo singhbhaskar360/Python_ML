{
  "nbformat": 4,
  "nbformat_minor": 0,
  "metadata": {
    "colab": {
      "provenance": [],
      "include_colab_link": true
    },
    "kernelspec": {
      "name": "python3",
      "display_name": "Python 3"
    },
    "language_info": {
      "name": "python"
    }
  },
  "cells": [
    {
      "cell_type": "markdown",
      "metadata": {
        "id": "view-in-github",
        "colab_type": "text"
      },
      "source": [
        "<a href=\"https://colab.research.google.com/github/singhbhaskar360/Python_ML/blob/main/SQL_DML_task_33.ipynb\" target=\"_parent\"><img src=\"https://colab.research.google.com/assets/colab-badge.svg\" alt=\"Open In Colab\"/></a>"
      ]
    },
    {
      "cell_type": "markdown",
      "source": [
        "## Sleep Efficiency Dataset\n",
        "For questions 1-5, you can find the dataset and details about it from [here](https://www.kaggle.com/datasets/equilibriumm/sleep-efficiency).\n",
        "\n",
        "`ID`\n",
        "a unique identifier for each test subject\n",
        "\n",
        "`Age`\n",
        "age of the test subject\n",
        "\n",
        "`Gender`\n",
        "male or female\n",
        "\n",
        "`Bedtime`\n",
        "the time the test subject goes to bed each night\n",
        "\n",
        "`Wakeup time`\n",
        "the time the test subject wakes up each morning\n",
        "\n",
        "`Sleep duration`\n",
        "the total amount of time the test subject slept (in hours)\n",
        "\n",
        "`Sleep efficiency`\n",
        "a measure of the proportion of time in bed spent asleep\n",
        "\n",
        "`REM sleep percentage`\n",
        "the percentage of total sleep time spent in REM sleep\n",
        "\n",
        "`Deep sleep percentage`\n",
        "the percentage of total sleep time spent in deep sleep\n",
        "\n",
        "`Light sleep percentage`\n",
        "the percentage of total sleep time spent in light sleep\n",
        "\n",
        "`Awakenings`\n",
        "the number of times the test subject wakes up during the night\n",
        "\n",
        "`Caffeine consumption`\n",
        "the amount of caffeine consumed in the 24 hours prior to bedtime (in mg)\n",
        "\n",
        "`Alcohol consumption`\n",
        "the amount of alcohol consumed in the 24 hours prior to bedtime (in oz)\n",
        "\n",
        "`Smoking status`\n",
        "whether or not the test subject smokes\n",
        "\n",
        "`Exercise frequency`\n",
        "the number of times the test subject exercises each week\n",
        "\n"
      ],
      "metadata": {
        "id": "_GfKmtlR3Vcb"
      }
    },
    {
      "cell_type": "markdown",
      "source": [
        "### **`Problem 1:`**\n",
        "\n",
        "**The question is:**\n",
        "\n",
        "Find out the average sleep duration of top 15 male candidates who's sleep duration are equal to 7.5 or greater than 7.5.\n",
        "\n",
        "\n",
        "### `Problem 2:` Show avg deep sleep time for both gender. Round result at 2 decimal places.\n",
        "\n",
        "Note: sleep time and deep sleep percentage will give you, deep sleep time.\n",
        "\n",
        "\n",
        "### **`Problem 3:`**\n",
        "\n",
        "\n",
        "**The question is:**\n",
        "\n",
        "Find out the lowest 10th to 30th light sleep percentage records where deep sleep percentage values are between 25 to 45. Display age, light sleep percentage and deep sleep percentage columns only.\n",
        "\n",
        "\n",
        "\n",
        "### `Problem 4:` Group by on exercise frequency and smoking status and show average deep sleep time, average light sleep time and avg rem sleep time.\n",
        "\n",
        "* Note the differences in deep sleep time for smoking and non smoking status\n",
        "\n",
        "\n",
        "\n",
        "### `Problem 5:` Group By on Awekning and show AVG Caffeine consumption, AVG Deep sleep time and AVG Alcohol consumption only for people who do exercise atleast 3 days a week. Show result in descending order awekenings"
      ],
      "metadata": {
        "id": "AH94HTr93eW6"
      }
    },
    {
      "cell_type": "code",
      "source": [],
      "metadata": {
        "id": "Eq7CQ4K03vPC"
      },
      "execution_count": null,
      "outputs": []
    },
    {
      "cell_type": "markdown",
      "source": [
        "## Power Generation Dataset\n",
        "\n",
        "For this question, you can find the details as well as the dataset from [here](https://www.kaggle.com/datasets/arvindnagaonkar/power-generation-data)."
      ],
      "metadata": {
        "id": "Pn5NOwhR3wgZ"
      }
    },
    {
      "cell_type": "markdown",
      "source": [
        "### **`Problem 6:`**\n",
        "\n",
        "\n",
        "\n",
        "**The question is:**\n",
        "\n",
        "Display those power stations which have average 'Monitored Cap.(MW)' (display the values) between 1000 and 2000 and the number of occurance of the power stations (also display these values) are \n",
        "greater than 200. Also sort the result in ascending order.\n",
        "\n",
        "\n"
      ],
      "metadata": {
        "id": "1_K7ZXQG3zGJ"
      }
    },
    {
      "cell_type": "code",
      "source": [
        "#1\n",
        "#avg sleep duration of top sleepy male who sleep more than 7.5 hours\n",
        "\n",
        "select top(15) ID,round(avg(sleep_duration),1) as 'avg_sleep'\n",
        "from Sleep_Efficiency\n",
        "where Sleep_duration>=7.5\n",
        "group by ID\n",
        "order by round(avg(sleep_duration),1) desc\n",
        "\n",
        "#2\n",
        "#gender wise avg sleep duration \n",
        "\n",
        "select Gender,round(avg(sleep_duration),1) as 'avg_sleep'\n",
        "from Sleep_Efficiency\n",
        "group by Gender\n",
        "order by round(avg(sleep_duration),1)\n",
        "\n",
        "\n",
        "#3\n",
        "\n",
        "select Age,Deep_sleep_percentage,Light_sleep_percentage\n",
        "from Sleep_Efficiency\n",
        "where Deep_sleep_percentage between 25 and 45\n",
        "order by Light_sleep_percentage asc\n",
        "\n",
        "\n",
        "#4\n",
        "#avg deep sleep,light sleep duration, alcohol consuption and caffeine consuption\n",
        "#by awakning habits who do excercises 3 times a week\n",
        "\n",
        "select Awakenings,\n",
        "\t   round(avg(Deep_sleep_percentage),1) as 'Deep_Sleep',\n",
        "\t   round(avg(Light_sleep_percentage),1) as 'Light_Sleep',\n",
        "\t   round(avg(Caffeine_consumption),1) as 'Caffeine_Consm',\n",
        "\t   round(avg(Alcohol_consumption),1) as 'Alch_Consm'\n",
        "from Sleep_Efficiency\n",
        "where Exercise_frequency=3\n",
        "group by Awakenings\n",
        "order by Awakenings desc"
      ],
      "metadata": {
        "id": "Y_YgMTp03ygI"
      },
      "execution_count": null,
      "outputs": []
    },
    {
      "cell_type": "markdown",
      "source": [
        "## Avg Cost of Undergrad College by State(USA) Dataset-\n",
        "For this question, you can find the detailed dataset from [here](https://www.kaggle.com/datasets/kfoster150/avg-cost-of-undergrad-college-by-state).\n",
        "\n",
        "`Year`\n",
        "The Digest year this information comes from\n",
        "\n",
        "`State`\n",
        "The U.S. State\n",
        "\n",
        "`Type`\n",
        "Type of University, Private or Public and in-state or out-of-state. Private colleges charge the same for in/out of state\n",
        "\n",
        "`Length`\n",
        "Whether the college mainly offers 2-year (Associates) or 4-year (Bachelors) programs\n",
        "\n",
        "`Expense`\n",
        "The Expense being described, tuition/fees or on-campus living expenses\n",
        "\n",
        "`Value`\n",
        "The average cost for this particular expense, in USD ($)"
      ],
      "metadata": {
        "id": "S4vjoWDu36Br"
      }
    },
    {
      "cell_type": "markdown",
      "source": [
        "### **`Problem 7:`**\n",
        "\n",
        "\n",
        "\n",
        "**The question is:**\n",
        "\n",
        "Display top 10 lowest \"value\" State names of which the Year either belong to 2013 or 2017 or 2021 and type is 'Public In-State'. Also the number of occurance should be between 6 to 10. Display the average value upto 2 decimal places, state names and the occurance of the states.\n",
        "\n",
        "\n",
        "###`Problem -8:` Best state in terms of low education cost (Tution Fees) in 'Public' type university.\n",
        "\n",
        "\n",
        "\n",
        "### `Problem 9:` 2nd Costliest state for Private education in year 2021. Consider, Tution and Room fee both. "
      ],
      "metadata": {
        "id": "VxlMC6yw3-B_"
      }
    },
    {
      "cell_type": "code",
      "source": [],
      "metadata": {
        "id": "12CBSFog39VC"
      },
      "execution_count": null,
      "outputs": []
    },
    {
      "cell_type": "markdown",
      "source": [
        "### **`Problem 10:`**\n",
        "\n",
        "For this, you can find the dataset from [here]().\n",
        "\n",
        "**The question is:**\n",
        "\n",
        "Display total and average values of Discount_offered for all the combinations of 'Mode_of_Shipment' (display this feature) and 'Warehouse_block' (display this feature also) for all male ('M') and 'High' Product_importance. Also sort the values in descending order of Mode_of_Shipment and ascending order of Warehouse_block."
      ],
      "metadata": {
        "id": "-gWZEkBb4JpJ"
      }
    },
    {
      "cell_type": "code",
      "source": [],
      "metadata": {
        "id": "Q7wXusCe4KN9"
      },
      "execution_count": null,
      "outputs": []
    }
  ]
}