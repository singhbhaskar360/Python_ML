{
  "nbformat": 4,
  "nbformat_minor": 0,
  "metadata": {
    "colab": {
      "provenance": [],
      "include_colab_link": true
    },
    "kernelspec": {
      "name": "python3",
      "display_name": "Python 3"
    },
    "language_info": {
      "name": "python"
    }
  },
  "cells": [
    {
      "cell_type": "markdown",
      "metadata": {
        "id": "view-in-github",
        "colab_type": "text"
      },
      "source": [
        "<a href=\"https://colab.research.google.com/github/singhbhaskar360/Python_ML/blob/main/Pandas_session_18_tasks.ipynb\" target=\"_parent\"><img src=\"https://colab.research.google.com/assets/colab-badge.svg\" alt=\"Open In Colab\"/></a>"
      ]
    },
    {
      "cell_type": "code",
      "execution_count": 1,
      "metadata": {
        "id": "PlcdriLvtyhC"
      },
      "outputs": [],
      "source": [
        "import numpy as np\n",
        "import pandas as pd\n",
        "\n",
        "# to visualize all the column, run the below code\n",
        "pd.options.display.max_columns = None\n",
        "# to show all the records, use the below code\n",
        "# pd.options.display.max_rows = None"
      ]
    },
    {
      "cell_type": "markdown",
      "source": [
        "## Fifa Worldcup - 2022 dataset.\n",
        "\n",
        "You can find the dataset from [here](https://www.kaggle.com/datasets/sayanroy729/fifa-worldcup-2022-results).\n",
        "\n",
        "Also you can directly use an url to read the dataset by using `pd.read_csv()` method. Check the below code cell."
      ],
      "metadata": {
        "id": "YZvQ-2fzt318"
      }
    },
    {
      "cell_type": "code",
      "source": [
        "# To get the details about the dataset, please visit\n",
        "# https://www.kaggle.com/datasets/sayanroy729/fifa-worldcup-2022-results\n",
        "\n",
        "url = \"https://docs.google.com/spreadsheets/d/e/2PACX-1vT3D_x_4DS6d51LKJ7ze1sxT5WpV5uiSVOFYHLwBiGru6vFyVv5h5-83AwFjxWYiWfCDjDAaarHAV-k/pub?gid=0&single=true&output=csv\"\n",
        "df = pd.read_csv(url)\n",
        "df.sample(5)"
      ],
      "metadata": {
        "id": "tGy1_cUruB4I",
        "outputId": "1b1f4300-a9b4-4f88-e978-28b7baabcd11",
        "colab": {
          "base_uri": "https://localhost:8080/",
          "height": 322
        }
      },
      "execution_count": 5,
      "outputs": [
        {
          "output_type": "execute_result",
          "data": {
            "text/plain": [
              "     Sl. No  Match No.         Team      Against Group  Goal  Possession (%)  \\\n",
              "104     105         53        Japan      Croatia     E     1              36   \n",
              "30       31         16       Brazil       Serbia     G     2              53   \n",
              "67       68         34      Senegal      Ecuador     A     2              32   \n",
              "5         6          3  Netherlands      Senegal     A     2              41   \n",
              "60       61         31       Brazil  Switzerland     G     1              51   \n",
              "\n",
              "     Inside Penalty Area  Outside Penalty Area  Assists  Total Attempts  \\\n",
              "104                    1                     0        1              12   \n",
              "30                     2                     0        1              24   \n",
              "67                     2                     0        0              15   \n",
              "5                      2                     0        1              10   \n",
              "60                     1                     0        1               9   \n",
              "\n",
              "     On Target  Off Target  Target in Penalty  Target from Outside  \\\n",
              "104          4           4                  5                    7   \n",
              "30          10           9                 11                   13   \n",
              "67           6           5                 11                    4   \n",
              "5            3           4                  6                    4   \n",
              "60           5           2                  6                    3   \n",
              "\n",
              "     Left Channel  Left Inside Channel  Central Channel  Right Inside Channel  \\\n",
              "104            14                    6                6                     6   \n",
              "30             14                    9               10                     7   \n",
              "67             14                    0                2                     7   \n",
              "5              11                    2                2                     7   \n",
              "60             19                   12                5                     5   \n",
              "\n",
              "     Right Channel  Receptions MD  Receptions D  Attempted Line Breaks  \\\n",
              "104             18             87             8                    253   \n",
              "30              20            125            11                    184   \n",
              "67              10             65             8                    159   \n",
              "5               20             86            10                    168   \n",
              "60              11             99            16                    164   \n",
              "\n",
              "     Completed Line Breaks  Attempted Defensive Line Breaks  \\\n",
              "104                    137                                7   \n",
              "30                     134                               16   \n",
              "67                      80                               12   \n",
              "5                      108                               10   \n",
              "60                     114                               20   \n",
              "\n",
              "     Completed Defensive Line Breaks  Yellow Cards  Red Cards  Fouls Against  \\\n",
              "104                                3             0          0             13   \n",
              "30                                10             0          0              7   \n",
              "67                                 8             1          0             11   \n",
              "5                                  7             2          0             13   \n",
              "60                                11             1          0             10   \n",
              "\n",
              "     Offsides  Passes  Passes Completed  Crosses  Crosses Completed  Corners  \\\n",
              "104         3     545               430       31                  6        8   \n",
              "30          1     585               526       19                  3        6   \n",
              "67          3     277               200       21                  7        6   \n",
              "5           1     457               386       26                  7        7   \n",
              "60          3     565               498       26                  3        8   \n",
              "\n",
              "     Free Kicks  Penalties Scored  Pts  \n",
              "104          16                 1    0  \n",
              "30           12                 0    3  \n",
              "67           22                 1    3  \n",
              "5            15                 0    3  \n",
              "60           18                 0    3  "
            ],
            "text/html": [
              "\n",
              "  <div id=\"df-25d18f15-7019-4c72-8190-0e1bc43a6c42\">\n",
              "    <div class=\"colab-df-container\">\n",
              "      <div>\n",
              "<style scoped>\n",
              "    .dataframe tbody tr th:only-of-type {\n",
              "        vertical-align: middle;\n",
              "    }\n",
              "\n",
              "    .dataframe tbody tr th {\n",
              "        vertical-align: top;\n",
              "    }\n",
              "\n",
              "    .dataframe thead th {\n",
              "        text-align: right;\n",
              "    }\n",
              "</style>\n",
              "<table border=\"1\" class=\"dataframe\">\n",
              "  <thead>\n",
              "    <tr style=\"text-align: right;\">\n",
              "      <th></th>\n",
              "      <th>Sl. No</th>\n",
              "      <th>Match No.</th>\n",
              "      <th>Team</th>\n",
              "      <th>Against</th>\n",
              "      <th>Group</th>\n",
              "      <th>Goal</th>\n",
              "      <th>Possession (%)</th>\n",
              "      <th>Inside Penalty Area</th>\n",
              "      <th>Outside Penalty Area</th>\n",
              "      <th>Assists</th>\n",
              "      <th>Total Attempts</th>\n",
              "      <th>On Target</th>\n",
              "      <th>Off Target</th>\n",
              "      <th>Target in Penalty</th>\n",
              "      <th>Target from Outside</th>\n",
              "      <th>Left Channel</th>\n",
              "      <th>Left Inside Channel</th>\n",
              "      <th>Central Channel</th>\n",
              "      <th>Right Inside Channel</th>\n",
              "      <th>Right Channel</th>\n",
              "      <th>Receptions MD</th>\n",
              "      <th>Receptions D</th>\n",
              "      <th>Attempted Line Breaks</th>\n",
              "      <th>Completed Line Breaks</th>\n",
              "      <th>Attempted Defensive Line Breaks</th>\n",
              "      <th>Completed Defensive Line Breaks</th>\n",
              "      <th>Yellow Cards</th>\n",
              "      <th>Red Cards</th>\n",
              "      <th>Fouls Against</th>\n",
              "      <th>Offsides</th>\n",
              "      <th>Passes</th>\n",
              "      <th>Passes Completed</th>\n",
              "      <th>Crosses</th>\n",
              "      <th>Crosses Completed</th>\n",
              "      <th>Corners</th>\n",
              "      <th>Free Kicks</th>\n",
              "      <th>Penalties Scored</th>\n",
              "      <th>Pts</th>\n",
              "    </tr>\n",
              "  </thead>\n",
              "  <tbody>\n",
              "    <tr>\n",
              "      <th>104</th>\n",
              "      <td>105</td>\n",
              "      <td>53</td>\n",
              "      <td>Japan</td>\n",
              "      <td>Croatia</td>\n",
              "      <td>E</td>\n",
              "      <td>1</td>\n",
              "      <td>36</td>\n",
              "      <td>1</td>\n",
              "      <td>0</td>\n",
              "      <td>1</td>\n",
              "      <td>12</td>\n",
              "      <td>4</td>\n",
              "      <td>4</td>\n",
              "      <td>5</td>\n",
              "      <td>7</td>\n",
              "      <td>14</td>\n",
              "      <td>6</td>\n",
              "      <td>6</td>\n",
              "      <td>6</td>\n",
              "      <td>18</td>\n",
              "      <td>87</td>\n",
              "      <td>8</td>\n",
              "      <td>253</td>\n",
              "      <td>137</td>\n",
              "      <td>7</td>\n",
              "      <td>3</td>\n",
              "      <td>0</td>\n",
              "      <td>0</td>\n",
              "      <td>13</td>\n",
              "      <td>3</td>\n",
              "      <td>545</td>\n",
              "      <td>430</td>\n",
              "      <td>31</td>\n",
              "      <td>6</td>\n",
              "      <td>8</td>\n",
              "      <td>16</td>\n",
              "      <td>1</td>\n",
              "      <td>0</td>\n",
              "    </tr>\n",
              "    <tr>\n",
              "      <th>30</th>\n",
              "      <td>31</td>\n",
              "      <td>16</td>\n",
              "      <td>Brazil</td>\n",
              "      <td>Serbia</td>\n",
              "      <td>G</td>\n",
              "      <td>2</td>\n",
              "      <td>53</td>\n",
              "      <td>2</td>\n",
              "      <td>0</td>\n",
              "      <td>1</td>\n",
              "      <td>24</td>\n",
              "      <td>10</td>\n",
              "      <td>9</td>\n",
              "      <td>11</td>\n",
              "      <td>13</td>\n",
              "      <td>14</td>\n",
              "      <td>9</td>\n",
              "      <td>10</td>\n",
              "      <td>7</td>\n",
              "      <td>20</td>\n",
              "      <td>125</td>\n",
              "      <td>11</td>\n",
              "      <td>184</td>\n",
              "      <td>134</td>\n",
              "      <td>16</td>\n",
              "      <td>10</td>\n",
              "      <td>0</td>\n",
              "      <td>0</td>\n",
              "      <td>7</td>\n",
              "      <td>1</td>\n",
              "      <td>585</td>\n",
              "      <td>526</td>\n",
              "      <td>19</td>\n",
              "      <td>3</td>\n",
              "      <td>6</td>\n",
              "      <td>12</td>\n",
              "      <td>0</td>\n",
              "      <td>3</td>\n",
              "    </tr>\n",
              "    <tr>\n",
              "      <th>67</th>\n",
              "      <td>68</td>\n",
              "      <td>34</td>\n",
              "      <td>Senegal</td>\n",
              "      <td>Ecuador</td>\n",
              "      <td>A</td>\n",
              "      <td>2</td>\n",
              "      <td>32</td>\n",
              "      <td>2</td>\n",
              "      <td>0</td>\n",
              "      <td>0</td>\n",
              "      <td>15</td>\n",
              "      <td>6</td>\n",
              "      <td>5</td>\n",
              "      <td>11</td>\n",
              "      <td>4</td>\n",
              "      <td>14</td>\n",
              "      <td>0</td>\n",
              "      <td>2</td>\n",
              "      <td>7</td>\n",
              "      <td>10</td>\n",
              "      <td>65</td>\n",
              "      <td>8</td>\n",
              "      <td>159</td>\n",
              "      <td>80</td>\n",
              "      <td>12</td>\n",
              "      <td>8</td>\n",
              "      <td>1</td>\n",
              "      <td>0</td>\n",
              "      <td>11</td>\n",
              "      <td>3</td>\n",
              "      <td>277</td>\n",
              "      <td>200</td>\n",
              "      <td>21</td>\n",
              "      <td>7</td>\n",
              "      <td>6</td>\n",
              "      <td>22</td>\n",
              "      <td>1</td>\n",
              "      <td>3</td>\n",
              "    </tr>\n",
              "    <tr>\n",
              "      <th>5</th>\n",
              "      <td>6</td>\n",
              "      <td>3</td>\n",
              "      <td>Netherlands</td>\n",
              "      <td>Senegal</td>\n",
              "      <td>A</td>\n",
              "      <td>2</td>\n",
              "      <td>41</td>\n",
              "      <td>2</td>\n",
              "      <td>0</td>\n",
              "      <td>1</td>\n",
              "      <td>10</td>\n",
              "      <td>3</td>\n",
              "      <td>4</td>\n",
              "      <td>6</td>\n",
              "      <td>4</td>\n",
              "      <td>11</td>\n",
              "      <td>2</td>\n",
              "      <td>2</td>\n",
              "      <td>7</td>\n",
              "      <td>20</td>\n",
              "      <td>86</td>\n",
              "      <td>10</td>\n",
              "      <td>168</td>\n",
              "      <td>108</td>\n",
              "      <td>10</td>\n",
              "      <td>7</td>\n",
              "      <td>2</td>\n",
              "      <td>0</td>\n",
              "      <td>13</td>\n",
              "      <td>1</td>\n",
              "      <td>457</td>\n",
              "      <td>386</td>\n",
              "      <td>26</td>\n",
              "      <td>7</td>\n",
              "      <td>7</td>\n",
              "      <td>15</td>\n",
              "      <td>0</td>\n",
              "      <td>3</td>\n",
              "    </tr>\n",
              "    <tr>\n",
              "      <th>60</th>\n",
              "      <td>61</td>\n",
              "      <td>31</td>\n",
              "      <td>Brazil</td>\n",
              "      <td>Switzerland</td>\n",
              "      <td>G</td>\n",
              "      <td>1</td>\n",
              "      <td>51</td>\n",
              "      <td>1</td>\n",
              "      <td>0</td>\n",
              "      <td>1</td>\n",
              "      <td>9</td>\n",
              "      <td>5</td>\n",
              "      <td>2</td>\n",
              "      <td>6</td>\n",
              "      <td>3</td>\n",
              "      <td>19</td>\n",
              "      <td>12</td>\n",
              "      <td>5</td>\n",
              "      <td>5</td>\n",
              "      <td>11</td>\n",
              "      <td>99</td>\n",
              "      <td>16</td>\n",
              "      <td>164</td>\n",
              "      <td>114</td>\n",
              "      <td>20</td>\n",
              "      <td>11</td>\n",
              "      <td>1</td>\n",
              "      <td>0</td>\n",
              "      <td>10</td>\n",
              "      <td>3</td>\n",
              "      <td>565</td>\n",
              "      <td>498</td>\n",
              "      <td>26</td>\n",
              "      <td>3</td>\n",
              "      <td>8</td>\n",
              "      <td>18</td>\n",
              "      <td>0</td>\n",
              "      <td>3</td>\n",
              "    </tr>\n",
              "  </tbody>\n",
              "</table>\n",
              "</div>\n",
              "      <button class=\"colab-df-convert\" onclick=\"convertToInteractive('df-25d18f15-7019-4c72-8190-0e1bc43a6c42')\"\n",
              "              title=\"Convert this dataframe to an interactive table.\"\n",
              "              style=\"display:none;\">\n",
              "        \n",
              "  <svg xmlns=\"http://www.w3.org/2000/svg\" height=\"24px\"viewBox=\"0 0 24 24\"\n",
              "       width=\"24px\">\n",
              "    <path d=\"M0 0h24v24H0V0z\" fill=\"none\"/>\n",
              "    <path d=\"M18.56 5.44l.94 2.06.94-2.06 2.06-.94-2.06-.94-.94-2.06-.94 2.06-2.06.94zm-11 1L8.5 8.5l.94-2.06 2.06-.94-2.06-.94L8.5 2.5l-.94 2.06-2.06.94zm10 10l.94 2.06.94-2.06 2.06-.94-2.06-.94-.94-2.06-.94 2.06-2.06.94z\"/><path d=\"M17.41 7.96l-1.37-1.37c-.4-.4-.92-.59-1.43-.59-.52 0-1.04.2-1.43.59L10.3 9.45l-7.72 7.72c-.78.78-.78 2.05 0 2.83L4 21.41c.39.39.9.59 1.41.59.51 0 1.02-.2 1.41-.59l7.78-7.78 2.81-2.81c.8-.78.8-2.07 0-2.86zM5.41 20L4 18.59l7.72-7.72 1.47 1.35L5.41 20z\"/>\n",
              "  </svg>\n",
              "      </button>\n",
              "      \n",
              "  <style>\n",
              "    .colab-df-container {\n",
              "      display:flex;\n",
              "      flex-wrap:wrap;\n",
              "      gap: 12px;\n",
              "    }\n",
              "\n",
              "    .colab-df-convert {\n",
              "      background-color: #E8F0FE;\n",
              "      border: none;\n",
              "      border-radius: 50%;\n",
              "      cursor: pointer;\n",
              "      display: none;\n",
              "      fill: #1967D2;\n",
              "      height: 32px;\n",
              "      padding: 0 0 0 0;\n",
              "      width: 32px;\n",
              "    }\n",
              "\n",
              "    .colab-df-convert:hover {\n",
              "      background-color: #E2EBFA;\n",
              "      box-shadow: 0px 1px 2px rgba(60, 64, 67, 0.3), 0px 1px 3px 1px rgba(60, 64, 67, 0.15);\n",
              "      fill: #174EA6;\n",
              "    }\n",
              "\n",
              "    [theme=dark] .colab-df-convert {\n",
              "      background-color: #3B4455;\n",
              "      fill: #D2E3FC;\n",
              "    }\n",
              "\n",
              "    [theme=dark] .colab-df-convert:hover {\n",
              "      background-color: #434B5C;\n",
              "      box-shadow: 0px 1px 3px 1px rgba(0, 0, 0, 0.15);\n",
              "      filter: drop-shadow(0px 1px 2px rgba(0, 0, 0, 0.3));\n",
              "      fill: #FFFFFF;\n",
              "    }\n",
              "  </style>\n",
              "\n",
              "      <script>\n",
              "        const buttonEl =\n",
              "          document.querySelector('#df-25d18f15-7019-4c72-8190-0e1bc43a6c42 button.colab-df-convert');\n",
              "        buttonEl.style.display =\n",
              "          google.colab.kernel.accessAllowed ? 'block' : 'none';\n",
              "\n",
              "        async function convertToInteractive(key) {\n",
              "          const element = document.querySelector('#df-25d18f15-7019-4c72-8190-0e1bc43a6c42');\n",
              "          const dataTable =\n",
              "            await google.colab.kernel.invokeFunction('convertToInteractive',\n",
              "                                                     [key], {});\n",
              "          if (!dataTable) return;\n",
              "\n",
              "          const docLinkHtml = 'Like what you see? Visit the ' +\n",
              "            '<a target=\"_blank\" href=https://colab.research.google.com/notebooks/data_table.ipynb>data table notebook</a>'\n",
              "            + ' to learn more about interactive tables.';\n",
              "          element.innerHTML = '';\n",
              "          dataTable['output_type'] = 'display_data';\n",
              "          await google.colab.output.renderOutput(dataTable, element);\n",
              "          const docLink = document.createElement('div');\n",
              "          docLink.innerHTML = docLinkHtml;\n",
              "          element.appendChild(docLink);\n",
              "        }\n",
              "      </script>\n",
              "    </div>\n",
              "  </div>\n",
              "  "
            ]
          },
          "metadata": {},
          "execution_count": 5
        }
      ]
    },
    {
      "cell_type": "markdown",
      "source": [
        "### `Q-1:` Use the football dataset. Find out the total percentages that each team made on target. Display the result as a python dictionary where the keys are the team list and the values are the percentage values. Round off the percentage values up to 2 decimal places.\n",
        "\n",
        "*Help:*\n",
        "- First, find out how many total teams are participated in this worldcup. For that, you can use `unique()` method on the column \"Team\" or \"Against\".\n",
        "- Loop through the teams list that you have found in previous section, and then filter the dataset according to that. After filtering the dataset, find out total attempts sum and total on target sum.\n",
        "- After getting these values, find out the percentage by total on target divided by total attempts and multiply by 100. And store to a python dictionary where the key will be the team name and the values will be the percentages. \n",
        "- At the end,sort the dictionary by the values (not by the keys) and print the result.\n"
      ],
      "metadata": {
        "id": "gTisVyJHuLB9"
      }
    },
    {
      "cell_type": "markdown",
      "source": [
        "\n",
        "**Sample Output:**\n",
        "```bash\n",
        "{'Costa Rica': 54.55,\n",
        " 'Cameroon': 51.85,\n",
        " 'Ecuador': 48.15,\n",
        " 'Argentina': 46.99,\n",
        " 'Brazil': 45.56,\n",
        " 'England': 45.0,\n",
        " 'Portugal': 40.32,\n",
        " 'Ghana': 40.0,\n",
        " 'Netherlands': 39.02,\n",
        " 'Korea Republic': 36.73,\n",
        " 'Australia': 36.0,\n",
        " 'Mexico': 34.88,\n",
        " 'Croatia': 34.78,\n",
        " 'Germany': 34.33,\n",
        " 'France': 32.97,\n",
        " 'Spain': 32.69,\n",
        " 'Belgium': 32.35,\n",
        " 'Serbia': 32.26,\n",
        " 'Iran': 31.43,\n",
        " 'Uruguay': 31.25,\n",
        " 'United States': 31.11,\n",
        " 'Saudi Arabia': 31.03,\n",
        " 'Senegal': 30.77,\n",
        " 'Denmark': 30.56,\n",
        " 'Switzerland': 30.56,\n",
        " 'Japan': 30.23,\n",
        " 'Wales': 29.17,\n",
        " 'Qatar': 28.57,\n",
        " 'Morocco': 28.3,\n",
        " 'Tunisia': 26.67,\n",
        " 'Poland': 25.0,\n",
        " 'Canada': 17.65}\n",
        "```"
      ],
      "metadata": {
        "id": "8myJwFm_uOy6"
      }
    },
    {
      "cell_type": "code",
      "source": [
        "# code here"
      ],
      "metadata": {
        "id": "qwN5G6s-uH16"
      },
      "execution_count": null,
      "outputs": []
    },
    {
      "cell_type": "markdown",
      "source": [
        "### `Q-2:` Find out how many times the teams are played in this Fifa Worldcup-2022. On top of this, find out the ranks of the teams. \n",
        "\n",
        "Note: The `DataFrame.rank()` method takes an optiinal parameter named `method`. This parameter takes different values, but one of them is `average` which is by-default. So, when you do the rank, you will get some 2.5 like floating values. But if you change the value as `first`, then you will get in integers but the datatype will be float. So, try with `method=\"first\"` parameter."
      ],
      "metadata": {
        "id": "AzbkiZMduTok"
      }
    },
    {
      "cell_type": "code",
      "source": [
        "# code here"
      ],
      "metadata": {
        "id": "YJRkSElguWlL"
      },
      "execution_count": null,
      "outputs": []
    },
    {
      "cell_type": "markdown",
      "source": [
        "### `Q-3:` Find out these below topics:\n",
        "- The information about the Fifa worldcup dataset.\n",
        "- The description about the Fifa worldcup dataset\n",
        "- Check is there any missing values, if there is any missing values, fill that value with the average value for that particular column.\n",
        "- Drop all the duplicate rows permanently.\n",
        "- Drop the columns: \"Sl No\", \"Match No.\", \"Red Cards\" and \"Pts\" permanently. "
      ],
      "metadata": {
        "id": "056FDiXOuYQB"
      }
    },
    {
      "cell_type": "code",
      "source": [
        "# code here"
      ],
      "metadata": {
        "id": "0_TE4B26uaVS"
      },
      "execution_count": null,
      "outputs": []
    },
    {
      "cell_type": "markdown",
      "source": [
        "###`Q-4:` Do these below operations:\n",
        "- Find out the rank based on the \"Team\" column and save the result by adding a new column named \"Rank\".\n",
        "- Change the datatype of this column to integer by using `np.int16`\n",
        "- Set the index of the DataFrame by using this \"Rank\" column permanently.\n",
        "- After that, sort the dataframe based on the \"Rank\" index."
      ],
      "metadata": {
        "id": "8R3X--kyubf4"
      }
    },
    {
      "cell_type": "code",
      "source": [
        "# code here"
      ],
      "metadata": {
        "id": "l2-4scffuebD"
      },
      "execution_count": null,
      "outputs": []
    },
    {
      "cell_type": "markdown",
      "source": [
        "## Questions on Titanic dataset.\n",
        "\n",
        "You can get the dataset from [here](https://www.kaggle.com/competitions/titanic). This is the competition page on Kaggle. To download the dataset from here, I guess you have to register for the compition. So, do so and then download the dataset.\n",
        "\n",
        "Also, for now you can use this url to read the dataset like before: \n",
        "- dataset 1: https://docs.google.com/spreadsheets/d/e/2PACX-1vQjh5HzZ1N0SU7ME9ZQRzeVTaXaGsV97rU8R7eAcg53k27GTstJp9cRUOfr55go1GRRvTz1NwvyOnuh/pub?gid=1562145139&single=true&output=csv\n",
        "- dataset 2: https://docs.google.com/spreadsheets/d/e/2PACX-1vQcPvQsSC9aNFogvbUG08nu0bGHlOclGYaOlhND_LE5Ff7ZnHQ5VYzAgpyT5XNklgiT54SsNgHePsUa/pub?gid=1656109608&single=true&output=csv"
      ],
      "metadata": {
        "id": "J7827-Onufne"
      }
    },
    {
      "cell_type": "markdown",
      "source": [
        "### `Q-5:` Do the below tasks:\n",
        "1. With dataset 1, drop those records which only have missing values of the \"Age\" column permanently.\n",
        "\n",
        "2. With the dataset 2, fill the missing values with 20 to the only \"Age\" column permanently."
      ],
      "metadata": {
        "id": "bK8hhjGtuoPg"
      }
    },
    {
      "cell_type": "code",
      "source": [
        "# code here"
      ],
      "metadata": {
        "id": "OzU2N1WaujEV"
      },
      "execution_count": null,
      "outputs": []
    },
    {
      "cell_type": "markdown",
      "source": [
        "## Questions on IPL wala dataset\n",
        "\n",
        "matches dataset = https://drive.google.com/file/d/1yKVUuexl6lIKuFQy7uIPgDgXhJ0L4SIg/view?usp=share_link\n",
        "\n",
        "Code to directly use in colab\n",
        "```\n",
        "ipl_matches = \"https://docs.google.com/spreadsheets/d/e/2PACX-1vRy2DUdUbaKx_Co9F0FSnIlyS-8kp4aKv_I0-qzNeghiZHAI_hw94gKG22XTxNJHMFnFVKsO4xWOdIs/pub?gid=1655759976&single=true&output=csv\"\n",
        "\n",
        "```\n",
        "\n",
        "\n"
      ],
      "metadata": {
        "id": "u_za5X6Xuy9O"
      }
    },
    {
      "cell_type": "markdown",
      "source": [
        "###`Q-6:` Make a dataframe of each team in IPL with details like - Team Name, Matches Played, Win%, Home Win%, Away Win%.\n",
        "Show sorted dataframe on Win%\n",
        "\n",
        "Replace old team name as new name before performing any tasks.\n",
        "```\n",
        "Delhi Daredevils ->Delhi Capitals\n",
        "Kings XI Punjab -> Punjab Kings\n",
        "Rising Pune Supergiants -> Rising Pune Supergiant\n",
        "```\n",
        "\n",
        "Note: Team1 represents Home team. Exclude not result matches.\n"
      ],
      "metadata": {
        "id": "dUT2nct2u2ET"
      }
    },
    {
      "cell_type": "code",
      "source": [
        "# code here"
      ],
      "metadata": {
        "id": "Y_yr2BgquzeO"
      },
      "execution_count": null,
      "outputs": []
    },
    {
      "cell_type": "markdown",
      "source": [
        "###`Q-7:` Venues with most \"no result\" matches."
      ],
      "metadata": {
        "id": "kfZPOzk5u4Ty"
      }
    },
    {
      "cell_type": "code",
      "source": [
        "# code here"
      ],
      "metadata": {
        "id": "XYLJXgVwu7MC"
      },
      "execution_count": null,
      "outputs": []
    },
    {
      "cell_type": "markdown",
      "source": [
        "###`Q-8:` Player with most appearance in final match.\n",
        "\n",
        "`Team1Players` and `Team2Players` have all players name. It is not a list of players name instead it is str. So handle it as string.\n",
        "\n",
        "Hint: split and strip will help; Make a series of all players in final and do value counts\n"
      ],
      "metadata": {
        "id": "XWeIf7I6u8T-"
      }
    },
    {
      "cell_type": "code",
      "source": [
        "# code here"
      ],
      "metadata": {
        "id": "z_OKKz-Eu-dd"
      },
      "execution_count": null,
      "outputs": []
    },
    {
      "cell_type": "markdown",
      "source": [
        "###`Q-9:` IPL Point Table\n",
        "\n",
        "Make a function `point_table` which take `season` as parameter and show points table in non-ascendng order of points and in ascending order of team name.\n",
        "\n",
        "For winning - 2 Ponits; \n",
        "For loosing - 0 Point\n",
        "For not result both team gets 1 points.\n",
        "\n",
        "Make dataframe which will have\n",
        "`TeamName` `MatchesPlayed` `MatchesWon` `NoResult` `Points`\n",
        "make `TeamName` as index.\n",
        "\n",
        "```\n",
        "season parametr should be one of these->\n",
        "['2022', '2021', '2020/21', '2019', '2018', '2017', '2016', '2015', '2014', '2013', '2012', '2011', '2009/10', '2009', '2007/08']\n",
        "```\n"
      ],
      "metadata": {
        "id": "NUolo2wRu_ex"
      }
    },
    {
      "cell_type": "markdown",
      "source": [
        "Output of two Top 2 in season 2022\n",
        "```\n",
        "TeamName    MatchesPlayed\tMatchesWon\tNoResult\tPoints\n",
        "\t\t\t\t\n",
        "Gujarat Titans\t    16\t   12\t       0\t     24\n",
        "Rajasthan Royals\t  17\t   10\t       0\t     20\n",
        "\n",
        "```"
      ],
      "metadata": {
        "id": "j4TSQq6fvFxO"
      }
    },
    {
      "cell_type": "code",
      "source": [
        "# code here"
      ],
      "metadata": {
        "id": "WdVcgEekvBv6"
      },
      "execution_count": null,
      "outputs": []
    },
    {
      "cell_type": "markdown",
      "source": [
        "###`Q-10:` IPL Point Table cont.\n",
        "Extend the above IPL Point Table with an extra column as `SeasonPosition`\n",
        "\n",
        "Team below top 4 after sorting on `Points` and then on `TeamName` Will have same `SeasonPosition` as there rank. use rank function.\n",
        "\n",
        "Teams in Top four will have `SeasonPosition` as:\n",
        "```\n",
        "    'Winner' - Team won final\n",
        "    'Runner' - Team lost Final\n",
        "    3 - Losing Team in Qualifier2\n",
        "    4 - Losing Team in Eliminator\n",
        "```\n",
        "\n",
        "For changing value of pariticular cell use `df.at[row_index, col_label] = value`\n",
        "\n",
        "Output of two Top 2 in season 2022. Your result should have all teams.\n",
        "```\n",
        "TeamName    MatchesPlayed\tMatchesWon\tNoResult\tPoints   SeasonPosition\n",
        "\t\t\t\t\n",
        "Gujarat Titans\t    16\t   12\t       0\t     24         Winner\n",
        "Rajasthan Royals\t  17\t   10\t       0\t     20         Runner\n",
        "\n",
        "```\n",
        "\n",
        "Note: If you try to chnage value of view of any dataframe a warnig will be shown. To avoid it, make a copy of the dataframe you want to change in by `df.copy()`"
      ],
      "metadata": {
        "id": "b7bf7YwqvIXj"
      }
    },
    {
      "cell_type": "code",
      "source": [
        "# code here"
      ],
      "metadata": {
        "id": "ugZsBQiAvI5V"
      },
      "execution_count": null,
      "outputs": []
    }
  ]
}