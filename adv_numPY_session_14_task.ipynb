{
  "nbformat": 4,
  "nbformat_minor": 0,
  "metadata": {
    "colab": {
      "provenance": [],
      "include_colab_link": true
    },
    "kernelspec": {
      "name": "python3",
      "display_name": "Python 3"
    },
    "language_info": {
      "name": "python"
    }
  },
  "cells": [
    {
      "cell_type": "markdown",
      "metadata": {
        "id": "view-in-github",
        "colab_type": "text"
      },
      "source": [
        "<a href=\"https://colab.research.google.com/github/singhbhaskar360/Python_ML/blob/main/adv_numPY_session_14_task.ipynb\" target=\"_parent\"><img src=\"https://colab.research.google.com/assets/colab-badge.svg\" alt=\"Open In Colab\"/></a>"
      ]
    },
    {
      "cell_type": "markdown",
      "source": [
        "###`Q-1:` Find the nearest element in the array to a given integer.\n",
        "```\n",
        "Ex:- \n",
        "a=23 and array - [10 17 24 31 38 45 52 59].\n",
        "Nearest element is 24\n",
        "```\n",
        "Hint: Read about this function `argmin()`"
      ],
      "metadata": {
        "id": "1uamk9vAix0o"
      }
    },
    {
      "cell_type": "code",
      "source": [
        "# code here"
      ],
      "metadata": {
        "id": "ddkpbpR6iySZ"
      },
      "execution_count": null,
      "outputs": []
    },
    {
      "cell_type": "markdown",
      "source": [
        "### 283 lines\n",
        "\n",
        "\n",
        "```\n",
        "# This is formatted as code\n",
        "```\n",
        "\n"
      ],
      "metadata": {
        "id": "VQrr_ayZvzNz"
      }
    },
    {
      "cell_type": "markdown",
      "source": [
        "###`Q-2:` Replace multiples of 3 or 5 as 0 in the given array.\n",
        "```\n",
        "arr=[1 2 3 4 5 6 7 9]\n",
        "\n",
        "result-> [1 2 0 4 0 0 7 0]\n",
        "```"
      ],
      "metadata": {
        "id": "Y1QkHyPpizyp"
      }
    },
    {
      "cell_type": "code",
      "source": [
        "# code here\n",
        "import numpy as np\n",
        "a=np.array([1,2,3,4,5,6,7,8,9])\n",
        "# print(a)\n",
        "a[(a % 3 == 0) | (a % 5 == 0)]=0\n",
        "print(a)"
      ],
      "metadata": {
        "id": "JjtxMlhWi25l",
        "colab": {
          "base_uri": "https://localhost:8080/"
        },
        "outputId": "b4f98f4f-9ed0-4f30-c38d-9d2b9c0ced9a"
      },
      "execution_count": 3,
      "outputs": [
        {
          "output_type": "stream",
          "name": "stdout",
          "text": [
            "[1 2 0 4 0 0 7 8 0]\n"
          ]
        }
      ]
    },
    {
      "cell_type": "markdown",
      "source": [
        "###`Q-3:` Use Fancy Indexing.\n",
        "1. Double the array elements at  given indexes\n",
        "```\n",
        "arr = np.arrange(10)\n",
        "indexes = [0,3,4,9]\n",
        "```\n",
        "Result -> `[ 0  1  2  6  8  5  6  7  8 18]`\n",
        "\n",
        "2. Using a given array make a different array as in below example\n",
        "```\n",
        "array = [1,2,3]\n",
        "result array -> [1 1 1 2 2 2 3 3 3]\n",
        "```\n",
        "* Internal-repetion should be as length of the array.\n",
        "\n",
        "Hint: \n",
        "```\n",
        "if a is an array\n",
        "a = [2,4]\n",
        "a[[1,1,0,1]] will result in-> [4 4 2 4]\n",
        "```"
      ],
      "metadata": {
        "id": "Pi_dZSwTi4OI"
      }
    },
    {
      "cell_type": "code",
      "source": [
        "# code here\n",
        "# 3.1\n",
        "a1=np.arange(10)\n",
        "a1[[0,3,4,9]]=2*a1[[0,3,4,9]]\n",
        "print(a1)\n",
        "\n",
        "#3.2\n",
        "a2=np.array([1,2,3])\n",
        "a2=a2[[0,0,0,1,1,1,2,2,2]]\n",
        "print(a2)"
      ],
      "metadata": {
        "id": "SHYuyuovi66N",
        "colab": {
          "base_uri": "https://localhost:8080/"
        },
        "outputId": "45996aa3-850d-40b1-eeb0-14c047bcf7b8"
      },
      "execution_count": 20,
      "outputs": [
        {
          "output_type": "stream",
          "name": "stdout",
          "text": [
            "[ 0  1  2  6  8  5  6  7  8 18]\n",
            "[1 1 1 2 2 2 3 3 3]\n"
          ]
        }
      ]
    },
    {
      "cell_type": "markdown",
      "source": [
        "###`Q-4:` Your are given an array which is havig some nan value. You job is to fill those nan values with most common element in the array.\n",
        "```\n",
        "arr=np.array([[1,2,np.nan],[4,2,6],[np.nan,np.nan,5]])\n",
        "\n",
        "```"
      ],
      "metadata": {
        "id": "UDehG0tFi89i"
      }
    },
    {
      "cell_type": "code",
      "source": [
        "# code here\n",
        "\n",
        "a4=np.array([[1,2,np.nan],[4,2,6],[np.nan,np.nan,5]])\n",
        "# b=np.bincount(a4)\n",
        "print(np.argmax(a4))\n",
        "print(a4)\n",
        "a4[np.isnan(a4)]=np.argmax(a4)\n",
        "print(a4)"
      ],
      "metadata": {
        "id": "YH13A6w9jEyu",
        "colab": {
          "base_uri": "https://localhost:8080/"
        },
        "outputId": "aa7b248a-c4df-4157-8b69-c5338f3b3eea"
      },
      "execution_count": 8,
      "outputs": [
        {
          "output_type": "stream",
          "name": "stdout",
          "text": [
            "2\n",
            "[[ 1.  2. nan]\n",
            " [ 4.  2.  6.]\n",
            " [nan nan  5.]]\n",
            "[[1. 2. 2.]\n",
            " [4. 2. 6.]\n",
            " [2. 2. 5.]]\n"
          ]
        }
      ]
    },
    {
      "cell_type": "markdown",
      "source": [
        "### `Q-5:` Write a NumPy program \n",
        "\n",
        "- to find the missing data in a given array. Return a boolean matrix.\n",
        "- also try to fill those missing values with 0. For that, you can use `np.nan_to_num(a)`\n",
        "\n",
        "```python\n",
        "import numpy as np\n",
        "\n",
        "np.array([[3, 2, np.nan, 1],\n",
        "          [10, 12, 10, 9],\n",
        "          [5, np.nan, 1, np.nan]])\n",
        "```"
      ],
      "metadata": {
        "id": "Tk2JnioUjJ_t"
      }
    },
    {
      "cell_type": "code",
      "source": [
        "# code here\n",
        "\n",
        "a5=np.array([[3, 2, np.nan, 1],\n",
        "          [10, 12, 10, 9],\n",
        "          [5, np.nan, 1, np.nan]])\n",
        "# a5[np.isnan(a5)]\n",
        "np.nan_to_num(a5)\n"
      ],
      "metadata": {
        "id": "nPEBTQJ_jJZe",
        "colab": {
          "base_uri": "https://localhost:8080/"
        },
        "outputId": "46fad2f6-2503-44b3-ae05-a6f9cabd3493"
      },
      "execution_count": 14,
      "outputs": [
        {
          "output_type": "execute_result",
          "data": {
            "text/plain": [
              "array([[ 3.,  2.,  0.,  1.],\n",
              "       [10., 12., 10.,  9.],\n",
              "       [ 5.,  0.,  1.,  0.]])"
            ]
          },
          "metadata": {},
          "execution_count": 14
        }
      ]
    },
    {
      "cell_type": "markdown",
      "source": [
        "###`Q-6:` Given two arrays, X and Y, construct the Cauchy matrix C.\n",
        "`Cij =1/(xi - yj)`\n",
        "\n",
        "http://en.wikipedia.org/wiki/Cauchy_matrix\n",
        "```\n",
        "x = numpy.array([1,2,3,4]).reshape((-1, 1)\n",
        "y = numpy.array([5,6,7])\n",
        "```"
      ],
      "metadata": {
        "id": "FFUnZtG7jNBH"
      }
    },
    {
      "cell_type": "code",
      "source": [
        "# code here\n",
        "\n",
        "x = np.array([1,2,3,4]).reshape(-1, 1)\n",
        "y = np.array([5,6,7])\n",
        "print(x)\n",
        "print(y)"
      ],
      "metadata": {
        "id": "pQXHa38TjVEh",
        "colab": {
          "base_uri": "https://localhost:8080/"
        },
        "outputId": "4e8cc2c9-d1e8-4827-acdb-404c397a8ad1"
      },
      "execution_count": 16,
      "outputs": [
        {
          "output_type": "stream",
          "name": "stdout",
          "text": [
            "[[1]\n",
            " [2]\n",
            " [3]\n",
            " [4]]\n",
            "[5 6 7]\n"
          ]
        }
      ]
    },
    {
      "cell_type": "markdown",
      "source": [
        "###`Q-7:` Plot this below equation.\n",
        "\n",
        "$$\\large y = \\frac{e^x - e^{-x}}{e^x + e^{-x}}$$\n",
        "\n",
        "**Note: This equation is called tanh activation function. In deep learning, many times this function is used. If you find some difference between the sigmoid function and this tanh function, note that to your notebook.**"
      ],
      "metadata": {
        "id": "EbkHZCF1jWNc"
      }
    },
    {
      "cell_type": "code",
      "source": [
        "# code here\n",
        "import matplotlib.pyplot as plt\n",
        "\n",
        "\n",
        "x=np.linspace(-10,10,100)\n",
        "y=(np.exp(x)-np.exp(-x))/(np.exp(x)+np.exp(-x))\n",
        "# print(y)\n",
        "\n",
        "plt.plot(x,y)"
      ],
      "metadata": {
        "id": "n6OcN--FjbLC",
        "colab": {
          "base_uri": "https://localhost:8080/",
          "height": 447
        },
        "outputId": "2bef040b-52d7-4f6d-930b-72e41b678b1a"
      },
      "execution_count": 22,
      "outputs": [
        {
          "output_type": "execute_result",
          "data": {
            "text/plain": [
              "[<matplotlib.lines.Line2D at 0x7fb557265760>]"
            ]
          },
          "metadata": {},
          "execution_count": 22
        },
        {
          "output_type": "display_data",
          "data": {
            "text/plain": [
              "<Figure size 640x480 with 1 Axes>"
            ],
            "image/png": "[encoded data removed]"
          },
          "metadata": {}
        }
      ]
    },
    {
      "cell_type": "markdown",
      "source": [
        "### `Q-8:` Plot the below equation.\n",
        "\n",
        "$$\\large y = \\sqrt{36 - (x - 4)^2} + 2$$\n",
        "\n",
        "The range of x should be between -2 to 10. $x ∈ [-2, 10]$\n",
        "\n"
      ],
      "metadata": {
        "id": "xujS-pu4jciH"
      }
    },
    {
      "cell_type": "code",
      "source": [
        "# code here\n",
        "\n",
        "x=np.linspace(-2,10,100)\n",
        "\n",
        "y=(36-(x-4)**2)**0.5+2\n",
        "plt.plot(x,y)"
      ],
      "metadata": {
        "id": "7CagwKP_jhIQ",
        "colab": {
          "base_uri": "https://localhost:8080/",
          "height": 447
        },
        "outputId": "c50d4d1e-7f86-4a92-e33e-b16149cdc4e9"
      },
      "execution_count": 24,
      "outputs": [
        {
          "output_type": "execute_result",
          "data": {
            "text/plain": [
              "[<matplotlib.lines.Line2D at 0x7fb557190280>]"
            ]
          },
          "metadata": {},
          "execution_count": 24
        },
        {
          "output_type": "display_data",
          "data": {
            "text/plain": [
              "<Figure size 640x480 with 1 Axes>"
            ],
            "image/png": "[encoded data removed]"
          },
          "metadata": {}
        }
      ]
    },
    {
      "cell_type": "markdown",
      "source": [
        "### `Q-9:` Write a program implement Boradcasting Rule to check if two array can be added or not.\n",
        "Given tuples of shapes.\n",
        "```\n",
        "shape of a- (3,2,2)\n",
        "shape of b- (2,2)\n",
        "\n",
        "check_broadcast(a, b) -> return Boolean (True if can broadcasted, False other wise.)\n",
        "```"
      ],
      "metadata": {
        "id": "Jf14pxCfjiX1"
      }
    },
    {
      "cell_type": "code",
      "source": [
        "# code here"
      ],
      "metadata": {
        "id": "qSKGG0Yajlc8"
      },
      "execution_count": null,
      "outputs": []
    }
  ]
}