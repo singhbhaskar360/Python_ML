{
  "nbformat": 4,
  "nbformat_minor": 0,
  "metadata": {
    "colab": {
      "provenance": [],
      "include_colab_link": true
    },
    "kernelspec": {
      "name": "python3",
      "display_name": "Python 3"
    },
    "language_info": {
      "name": "python"
    }
  },
  "cells": [
    {
      "cell_type": "markdown",
      "metadata": {
        "id": "view-in-github",
        "colab_type": "text"
      },
      "source": [
        "<a href=\"https://colab.research.google.com/github/singhbhaskar360/Python_ML/blob/main/session_4_task_list.ipynb\" target=\"_parent\"><img src=\"https://colab.research.google.com/assets/colab-badge.svg\" alt=\"Open In Colab\"/></a>"
      ]
    },
    {
      "cell_type": "markdown",
      "source": [
        "###`Problem 1:` Combine two lists index-wise(columns wise)\n",
        "\n",
        "Write a program to add two lists index-wise. Create a new list that contains the 0th index item from both the list, then the 1st index item, and so on till the last element. any leftover items will get added at the end of the new list.\n",
        "\n",
        "`Given List:`\n",
        "```\n",
        "list1 = [\"M\", \"na\", \"i\", \"Kh\"]\n",
        "list2 = [\"y\", \"me\", \"s\", \"an\"]\n",
        "```\n",
        "\n",
        "`Output:`\n",
        "```\n",
        "[['M','y'], ['na', me'], ['i', 's'], ['Kh', 'an']]\n",
        "```"
      ],
      "metadata": {
        "id": "kLZ_vCeE0lsM"
      }
    },
    {
      "cell_type": "code",
      "source": [
        "# Write code here\n",
        "list1 = [\"M\", \"na\", \"i\", \"Kh\",\"jgu\"]\n",
        "list2 = [\"y\", \"me\", \"s\", \"an\"]\n",
        "f_l=[]\n",
        "# m=zip(list1,list2)\n",
        "f_l=list(zip(list1,list2))\n",
        "f_l.append(\"xyz\")\n",
        "f_l"
      ],
      "metadata": {
        "id": "cDO3Yv6p0nnG",
        "colab": {
          "base_uri": "https://localhost:8080/"
        },
        "outputId": "ae3987fd-0d77-4997-f39b-4a8a74209340"
      },
      "execution_count": null,
      "outputs": [
        {
          "output_type": "execute_result",
          "data": {
            "text/plain": [
              "[('M', 'y'), ('na', 'me'), ('i', 's'), ('Kh', 'an'), 'xyz']"
            ]
          },
          "metadata": {},
          "execution_count": 11
        }
      ]
    },
    {
      "cell_type": "code",
      "source": [
        "# Write code here\n",
        "list1 = [\"M\", \"na\", \"i\", \"Kh\",\"jgu\"]\n",
        "list2 = [\"y\", \"me\", \"s\", \"an\",\"khgewhg\",\"fjojh\",\"hihfklkljhfkeh\"]\n",
        "\n",
        "final_list=[]\n",
        "\n",
        "if len(list1)==len(list2):\n",
        "  final_list=list(zip(list1,list2))\n",
        "elif len(list1)>len(list2):\n",
        "  final_list=list(zip(list1,list2))\n",
        "  for i in range(len(list2),len(list1)):\n",
        "    final_list.append(list1[i])\n",
        "else:\n",
        "  final_list=list(zip(list1,list2))\n",
        "  for i in range(len(list1),len(list2)):\n",
        "    final_list.append(list2[i])\n",
        "\n",
        "final_list"
      ],
      "metadata": {
        "id": "lPd0tzBh02W6",
        "outputId": "f85794e5-a65d-47a1-f2f5-e4979cf7a89f",
        "colab": {
          "base_uri": "https://localhost:8080/"
        }
      },
      "execution_count": null,
      "outputs": [
        {
          "output_type": "execute_result",
          "data": {
            "text/plain": [
              "[('M', 'y'),\n",
              " ('na', 'me'),\n",
              " ('i', 's'),\n",
              " ('Kh', 'an'),\n",
              " ('jgu', 'khgewhg'),\n",
              " 'fjojh',\n",
              " 'hihfklkljhfkeh']"
            ]
          },
          "metadata": {},
          "execution_count": 13
        }
      ]
    },
    {
      "cell_type": "markdown",
      "source": [
        "### `Problem 2:` Add new item to list after a specified item\n",
        "Write a program to add item 7000 after 6000 in the following Python List\n",
        "```\n",
        "list1 = [10, 20, [300, 400, [5000, 6000], 500], 30, 40]\n",
        "```\n",
        "`Output:`\n",
        "```\n",
        "[10, 20, [300, 400, [5000, 6000, 7000], 500], 30, 40]\n",
        "```"
      ],
      "metadata": {
        "id": "bnRwRgf_0qLu"
      }
    },
    {
      "cell_type": "code",
      "source": [
        "# Write code here\n",
        "list1 = [10, 20, [300, 400, [5000, 6000], 500], 30, 40]\n",
        "\n",
        "# if 6000 in list1:\n",
        "#   print(\"kaam ban jayega\")\n",
        "\n",
        "for i in list1:\n",
        "  print(i)"
      ],
      "metadata": {
        "id": "yW5lLPns00q9",
        "colab": {
          "base_uri": "https://localhost:8080/"
        },
        "outputId": "684205f8-a572-4d82-b707-5893970735d2"
      },
      "execution_count": 2,
      "outputs": [
        {
          "output_type": "stream",
          "name": "stdout",
          "text": [
            "10\n",
            "20\n",
            "[300, 400, [5000, 6000], 500]\n",
            "30\n",
            "40\n"
          ]
        }
      ]
    },
    {
      "cell_type": "markdown",
      "source": [
        "###`Problem 3:` Update no of items available\n",
        "\n",
        "Suppose you are given a list of candy and another list of same size representing no of items of respective candy. \n",
        "\n",
        "i.e -  \n",
        "```\n",
        "candy_list = ['Jelly Belly','Kit Kat','Double Bubble','Milky Way','Three Musketeers']\n",
        "no_of_items = [10,20,34,74,32]\n",
        "```\n",
        "\n",
        "Write a program to show no. of items of each candy type.\n",
        "\n",
        "`Output:`\n",
        "\n",
        "```\n",
        "Jelly Belly-10\n",
        "Kit Kat-20\n",
        "Double Bubble-34\n",
        "Milky Way-74\n",
        "Three Musketeers-32\n",
        "\n",
        "```"
      ],
      "metadata": {
        "id": "w7fC8oHk02fH"
      }
    },
    {
      "cell_type": "code",
      "source": [
        "# Write code here\n",
        "\n",
        "candy_list = ['Jelly Belly','Kit Kat','Double Bubble','Milky Way','Three Musketeers']\n",
        "no_of_items = [10,20,34,74,32]\n",
        "\n",
        "for i in range(0,len(candy_list)):\n",
        "  print(candy_list[i],\"-\",no_of_items[i])"
      ],
      "metadata": {
        "id": "gg5JEX1a09q8",
        "colab": {
          "base_uri": "https://localhost:8080/"
        },
        "outputId": "f3ad92a8-a1e2-47a9-c821-bf50018af05f"
      },
      "execution_count": 4,
      "outputs": [
        {
          "output_type": "stream",
          "name": "stdout",
          "text": [
            "Jelly Belly - 10\n",
            "Kit Kat - 20\n",
            "Double Bubble - 34\n",
            "Milky Way - 74\n",
            "Three Musketeers - 32\n"
          ]
        }
      ]
    },
    {
      "cell_type": "markdown",
      "source": [
        "###`Problem 4:` Running Sum on list\n",
        "Write a program to print a list after performing running sum on it.\n",
        "\n",
        "i.e:\n",
        "\n",
        "`Input:`\n",
        "```\n",
        "list1 = [1,2,3,4,5,6]\n",
        "```\n",
        "`Output:`\n",
        "```\n",
        "[1,3,6,10,15,21]\n",
        "```"
      ],
      "metadata": {
        "id": "mFGZAvnB1D3N"
      }
    },
    {
      "cell_type": "code",
      "source": [
        "# Write code here\n",
        "list1 = [1,2,3,4,5,6]\n",
        "\n",
        "sum=0\n",
        "output=[]\n",
        "\n",
        "for i in list1:\n",
        "  sum+=i\n",
        "  output.append(sum)\n",
        "\n",
        "print(output)"
      ],
      "metadata": {
        "id": "8LPS6DaD1FTs",
        "colab": {
          "base_uri": "https://localhost:8080/"
        },
        "outputId": "9f6af94d-0394-4620-e9ee-04c68b5ac256"
      },
      "execution_count": 5,
      "outputs": [
        {
          "output_type": "stream",
          "name": "stdout",
          "text": [
            "[1, 3, 6, 10, 15, 21]\n"
          ]
        }
      ]
    },
    {
      "cell_type": "markdown",
      "source": [
        "###`Problem 5:` You are given a list of integers. You are asked to make a list by running through elements of the list by adding all elements greater and itself.\n",
        "\n",
        "i.e. Say given list is `[2,4,6,10,1]`\n",
        "resultant list will be `[22,20,10,23]`.\n",
        "\n",
        "For 1st element `2` ->> these are greater `(4+6+10)` values and `2` itself so on adding becomes `22`.\n",
        "\n",
        "For 2nd element `4` ->> greater elements are `(6, 10)` and `4` itself, so on adding `20`\n",
        "\n",
        "like wise for all other elememts.\n",
        "\n",
        "`[2,4,6,10,1]`-->`[22,20,16,10,23]`\n",
        "\n",
        "\n"
      ],
      "metadata": {
        "id": "2ztcZ-EW1HEU"
      }
    },
    {
      "cell_type": "code",
      "source": [
        "# Write code here\n",
        "# list1=[2,4,6,10,1]\n",
        "\n",
        "\n",
        "# s=0\n",
        "# for i,a in enumerate(list1):\n",
        "#   s+=a\n",
        "# sum=0\n",
        "# output=list1.copy\n",
        "# x=len(list1)\n",
        "\n",
        "# # print(sorted(list1))\n",
        "# for i in sorted(list1):\n",
        "#   final=s-sum\n",
        "#   ind=list1.index(i)\n",
        "#   output[ind]=final\n",
        "#   sum+=i\n",
        "\n",
        "# print(output)\n",
        "\n",
        "# for i in list1:\n",
        "#   sum=0\n",
        "#   for j in range(0,x):\n",
        "#     if i>=check[j]:\n",
        "#       sum+=list1[j]\n",
        "#   output.append(sum)\n",
        "\n",
        "# print(output)\n",
        "\n",
        "# for i in range(0,len(list1)):\n",
        "#   sum=0\n",
        "#   for j in range(0,x):\n",
        "#     if list1[i]>=check[j]:\n",
        "#       sum+=list1[j]\n",
        "#   output.append(sum)\n",
        "\n",
        "# print(output)f\n"
      ],
      "metadata": {
        "id": "UJuWqzj31UD2"
      },
      "execution_count": 27,
      "outputs": []
    },
    {
      "cell_type": "code",
      "source": [],
      "metadata": {
        "id": "5LLQRpAyJSts"
      },
      "execution_count": 22,
      "outputs": []
    },
    {
      "cell_type": "markdown",
      "source": [
        "###`Problem 6:` Find list of common unique items from two list. and show in increasing order\n",
        "\n",
        "`Input`\n",
        "\n",
        "```\n",
        "num1 = [23,45,67,78,89,34]\n",
        "num2 = [34,89,55,56,39,67]\n",
        "```\n",
        "\n",
        "`Output:`\n",
        "```\n",
        "[34, 67, 89]\n",
        "```\n"
      ],
      "metadata": {
        "id": "c9H6tYTx1ZYo"
      }
    },
    {
      "cell_type": "code",
      "source": [
        "# Write code here\n",
        "num1 = [23,45,67,78,89,34]\n",
        "num2 = [34,89,55,56,39,67]\n",
        "output=[]\n",
        "for i in num1:\n",
        "  if i in num2:\n",
        "    output.append(i)\n",
        "\n",
        "print(sorted(output))\n",
        "\n"
      ],
      "metadata": {
        "id": "dDxdi7eE1e1W",
        "colab": {
          "base_uri": "https://localhost:8080/"
        },
        "outputId": "0fe2ce2b-3aec-403c-de02-5f49e36560d1"
      },
      "execution_count": 29,
      "outputs": [
        {
          "output_type": "stream",
          "name": "stdout",
          "text": [
            "[34, 67, 89]\n"
          ]
        }
      ]
    },
    {
      "cell_type": "markdown",
      "source": [
        "###`Problem 7:` Sort a list of alphanumeric strings based on product value of numeric character in it. If in any string there is no numeric character take it's product value as 1.\n",
        "\n",
        "`Input:`\n",
        "```\n",
        "['1ac21', '23fg', '456', '098d','1','kls']\n",
        "```\n",
        "\n",
        "`Output:`\n",
        "```\n",
        "['456', '23fg', '1ac21', '1', 'kls', '098d']\n",
        "\n",
        "```"
      ],
      "metadata": {
        "id": "i3Izok2i1gRD"
      }
    },
    {
      "cell_type": "code",
      "source": [
        "from posixpath import join\n",
        "# Write code here\n",
        "\n",
        "list1=['1ac21', '23fg', '456', '098d','1','3kls']\n",
        "op=[]\n",
        "\n",
        "\n",
        "for i in list1:\n",
        "  n=1\n",
        "  for j in range(0,len(i)):\n",
        "    if i[j].isdigit():\n",
        "      n=n*int(i[j])\n",
        "  op.append(n)\n",
        "\n",
        "  \n",
        "\n",
        "print(op)\n"
      ],
      "metadata": {
        "id": "eiXSanG11oq6",
        "colab": {
          "base_uri": "https://localhost:8080/"
        },
        "outputId": "bb535718-6b38-49ba-db65-9a6b77e965c1"
      },
      "execution_count": 10,
      "outputs": [
        {
          "output_type": "stream",
          "name": "stdout",
          "text": [
            "[2, 6, 120, 0, 1, 3]\n"
          ]
        }
      ]
    },
    {
      "cell_type": "markdown",
      "source": [
        "`Problem 8:` Split String of list on K character.\n",
        "\n",
        "**Example :**\n",
        "\n",
        "Input:\n",
        "```bash\n",
        "['CampusX is a channel', 'for data-science', 'aspirants.']\n",
        "```\n",
        "\n",
        "Output:\n",
        "```bash\n",
        "['CampusX', 'is', 'a', 'channel', 'for', 'data-science', 'aspirants.']\n",
        "```"
      ],
      "metadata": {
        "id": "McMaNSpB1zJB"
      }
    },
    {
      "cell_type": "code",
      "source": [
        "# Write code here\n",
        "l1=['CampusX is a channel', 'for data-science', 'aspirants.']\n",
        "op=[]\n",
        "for i in l1:\n",
        "  l2=i.split()\n",
        "  op.extend(l2)\n",
        "\n",
        "print(op)"
      ],
      "metadata": {
        "id": "rLg6AUhf14wI",
        "colab": {
          "base_uri": "https://localhost:8080/"
        },
        "outputId": "29763f24-9a54-411b-d56e-7a75ee1bd410"
      },
      "execution_count": 13,
      "outputs": [
        {
          "output_type": "stream",
          "name": "stdout",
          "text": [
            "['CampusX', 'is', 'a', 'channel', 'for', 'data-science', 'aspirants.']\n"
          ]
        }
      ]
    },
    {
      "cell_type": "markdown",
      "source": [
        "### `Problem 9:` Convert Character Matrix to single String using string comprehension.\n",
        "\n",
        "**Example 1:** \n",
        "\n",
        "Input:\n",
        "```bash\n",
        "[['c', 'a', 'm', 'p', 'u', 'x'], ['i', 's'], ['b', 'e', 's', 't'], ['c', 'h', 'a', 'n', 'n', 'e', 'l']]\n",
        "```\n",
        "\n",
        "Output:\n",
        "```bash\n",
        "campux is best channel\n",
        "```"
      ],
      "metadata": {
        "id": "ebqIC0Xa16dG"
      }
    },
    {
      "cell_type": "code",
      "source": [
        "# Write code here"
      ],
      "metadata": {
        "id": "KLKxzyZf2BLr"
      },
      "execution_count": null,
      "outputs": []
    },
    {
      "cell_type": "markdown",
      "source": [
        "### `Problem 10:` Add Space between Potential Words.\n",
        "\n",
        "**Example:**\n",
        "\n",
        "Input:\n",
        "\n",
        "```bash\n",
        "['campusxIs', 'bestFor', 'dataScientist']\n",
        "```\n",
        "\n",
        "Output:\n",
        "```bash\n",
        "['campusx Is', 'best For', 'data Scientist']\n",
        "```"
      ],
      "metadata": {
        "id": "0v1Z3Snp2DAm"
      }
    },
    {
      "cell_type": "code",
      "source": [
        "# Code here"
      ],
      "metadata": {
        "id": "pltvqSXa2IxP"
      },
      "execution_count": null,
      "outputs": []
    },
    {
      "cell_type": "markdown",
      "source": [
        "### `Problem 11:` Write a program that can perform union operation on 2 lists\n",
        "\n",
        "**Example:**\n",
        "\n",
        "Input:\n",
        "\n",
        "```bash\n",
        "[1,2,3,4,5,1]\n",
        "[2,3,5,7,8]\n",
        "```\n",
        "\n",
        "Output:\n",
        "```bash\n",
        "[1,2,3,4,5,7,8]\n",
        "```"
      ],
      "metadata": {
        "id": "tnmBk1M52KXW"
      }
    },
    {
      "cell_type": "code",
      "source": [
        "# Write code here"
      ],
      "metadata": {
        "id": "u0AgIToU2-Ht"
      },
      "execution_count": null,
      "outputs": []
    },
    {
      "cell_type": "markdown",
      "source": [
        "### `Problem 12:` Write a program that can find the max number of each row of a matrix\n",
        "\n",
        "**Example:**\n",
        "\n",
        "Input:\n",
        "\n",
        "```bash\n",
        "[[1,2,3],[4,5,6],[7,8,9]]\n",
        "```\n",
        "\n",
        "Output:\n",
        "```bash\n",
        "[3,6,9]\n",
        "```"
      ],
      "metadata": {
        "id": "Yt8x67Ch3Ow1"
      }
    },
    {
      "cell_type": "code",
      "source": [
        "# Write code here"
      ],
      "metadata": {
        "id": "7QopAaAI3noh"
      },
      "execution_count": null,
      "outputs": []
    },
    {
      "cell_type": "markdown",
      "source": [
        "### `Problem 13:` Write a list comprehension to print the following matrix\n",
        "\n",
        "[[0, 1, 2], [3, 4, 5], [6, 7, 8]]"
      ],
      "metadata": {
        "id": "DBZlUmnt3pGT"
      }
    },
    {
      "cell_type": "code",
      "source": [
        "# Write code here"
      ],
      "metadata": {
        "id": "Ip4e8M-S356h"
      },
      "execution_count": null,
      "outputs": []
    },
    {
      "cell_type": "markdown",
      "source": [
        "### `Problem 14:` Write a list comprehension that can transpose a given matrix\n",
        "\n",
        "matrix = [<br>\n",
        "  [1,2,3],<br>\n",
        "          [4,5,6],<br>\n",
        "          [7,8,9]<br>]<br>\n",
        "\n",
        "[1, 4, 7]<br>\n",
        "[2, 5, 8]<br>\n",
        "[3, 6, 9]<br>"
      ],
      "metadata": {
        "id": "j3vTuFC737kG"
      }
    },
    {
      "cell_type": "code",
      "source": [
        "# Write code here"
      ],
      "metadata": {
        "id": "CcBNu0gk4XsR"
      },
      "execution_count": null,
      "outputs": []
    },
    {
      "cell_type": "markdown",
      "source": [
        "### `Problem 15:` Write a list comprehension that can flatten a nested list\n",
        "\n",
        "Input<br>\n",
        "matrix = [<br>\n",
        "  [1,2,3],<br>\n",
        "          [4,5,6],<br>\n",
        "          [7,8,9]<br>]<br>\n",
        "\n",
        "Output:<br>\n",
        "[1, 2, 3, 4, 5, 6, 7, 8, 9]"
      ],
      "metadata": {
        "id": "wRkSWFb74eOt"
      }
    },
    {
      "cell_type": "code",
      "source": [
        "# Write code here"
      ],
      "metadata": {
        "id": "jZGQ5el25HFr"
      },
      "execution_count": null,
      "outputs": []
    }
  ]
}