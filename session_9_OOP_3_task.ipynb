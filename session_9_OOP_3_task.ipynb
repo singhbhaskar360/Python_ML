{
  "nbformat": 4,
  "nbformat_minor": 0,
  "metadata": {
    "colab": {
      "provenance": [],
      "collapsed_sections": [
        "BCleRtX43caS",
        "KBbGNTtQ47mJ",
        "ExIxsv4y-oEd",
        "OcQhJvXVALgp",
        "sEsGEqOHCSWG",
        "v1M5Yh9ZZO0z"
      ],
      "include_colab_link": true
    },
    "kernelspec": {
      "name": "python3",
      "display_name": "Python 3"
    },
    "language_info": {
      "name": "python"
    }
  },
  "cells": [
    {
      "cell_type": "markdown",
      "metadata": {
        "id": "view-in-github",
        "colab_type": "text"
      },
      "source": [
        "<a href=\"https://colab.research.google.com/github/singhbhaskar360/Python_ML/blob/main/session_9_OOP_3_task.ipynb\" target=\"_parent\"><img src=\"https://colab.research.google.com/assets/colab-badge.svg\" alt=\"Open In Colab\"/></a>"
      ]
    },
    {
      "cell_type": "markdown",
      "source": [
        "### `Problem-1:` Class inheritence\n",
        "\n",
        "Create a **Bus** child class that inherits from the Vehicle class. The default fare charge of any vehicle is seating capacity * 100. If Vehicle is Bus instance, we need to add an extra 10% on full fare as a maintenance charge. So total fare for bus instance will become the final amount = total fare + 10% of the total fare.\n",
        "\n",
        "Note: The bus seating capacity is 50. so the final fare amount should be 5500. You need to override the fare() method of a Vehicle class in Bus class."
      ],
      "metadata": {
        "id": "BCleRtX43caS"
      }
    },
    {
      "cell_type": "code",
      "execution_count": 5,
      "metadata": {
        "colab": {
          "base_uri": "https://localhost:8080/"
        },
        "id": "6jVFCXKz3YZI",
        "outputId": "e401c313-9069-4c3b-cd3e-1ba1af5bcfd3"
      },
      "outputs": [
        {
          "output_type": "stream",
          "name": "stdout",
          "text": [
            "5500.0\n"
          ]
        }
      ],
      "source": [
        "# Write code here\n",
        "\n",
        "class Vehicle:\n",
        "  \n",
        "  def fare(self,x):\n",
        "    return x*100\n",
        "\n",
        "\n",
        "class Bus(Vehicle):\n",
        "\n",
        "\n",
        "  def fare(self,y):\n",
        "    return y*100*1.1\n",
        "\n",
        "y=Bus()\n",
        "print(y.fare(50))\n"
      ]
    },
    {
      "cell_type": "markdown",
      "source": [
        "### `Problem-2:` Class Inheritence\n",
        "\n",
        "Create a Bus class that inherits from the Vehicle class. Give the capacity argument of *Bus.seating_capacity()* a default value of 50.\n",
        "\n",
        "Use the following code for your parent Vehicle class."
      ],
      "metadata": {
        "id": "KBbGNTtQ47mJ"
      }
    },
    {
      "cell_type": "code",
      "source": [
        "# Write code here\n",
        "\n",
        "class Vehicle:\n",
        "  \n",
        "  def fare(self,x):\n",
        "    return x*100\n",
        "\n",
        "\n",
        "class Bus(Vehicle):\n",
        "\n",
        "\n",
        "  def fare(self,y=50):\n",
        "    return y*100*1.1\n",
        "\n",
        "y=Bus()\n",
        "print(y.fare(60))"
      ],
      "metadata": {
        "id": "MwOnYE_14M-r",
        "colab": {
          "base_uri": "https://localhost:8080/"
        },
        "outputId": "0d4a99e9-2170-4c1e-d547-9be7e6609acf"
      },
      "execution_count": 4,
      "outputs": [
        {
          "output_type": "stream",
          "name": "stdout",
          "text": [
            "6600.000000000001\n"
          ]
        }
      ]
    },
    {
      "cell_type": "code",
      "source": [],
      "metadata": {
        "id": "Py5Gr0ip5OBB"
      },
      "execution_count": null,
      "outputs": []
    },
    {
      "cell_type": "markdown",
      "source": [
        "### `Problem-3:` Write a program that has a class Point. Define another class Location which has two objects (Location & Destination) of class Point. Also define a function in Location that prints the reflection of Destination on the x axis."
      ],
      "metadata": {
        "id": "ExIxsv4y-oEd"
      }
    },
    {
      "cell_type": "code",
      "source": [
        "class Point:\n",
        "\n",
        "  def __init__(self,x,y):\n",
        "    self.X_cod=x\n",
        "    self.Y_cod=y\n",
        "\n",
        "\n",
        "class Location:\n",
        "\n",
        "  def __init__(self,p1,p2):\n",
        "    self.Locat=p1\n",
        "    self.Dest=p2\n",
        "\n",
        "  def mirror_image(self):\n",
        "    return '<{},{}>'.format(self.Dest.X_cod,-1*self.Dest.Y_cod)\n",
        "\n",
        "\n",
        "l1=Point(1,3)\n",
        "d1=Point(3,5)\n",
        "\n",
        "l2=Location(l1,d1)\n",
        "\n",
        "print(l2.mirror_image())\n"
      ],
      "metadata": {
        "id": "yT2QtzQp5VAB",
        "colab": {
          "base_uri": "https://localhost:8080/"
        },
        "outputId": "8b16124e-7835-4cae-826f-8f2da12fc13c"
      },
      "execution_count": null,
      "outputs": [
        {
          "output_type": "stream",
          "name": "stdout",
          "text": [
            "<3,-5>\n"
          ]
        }
      ]
    },
    {
      "cell_type": "markdown",
      "source": [
        "### `Problem-4:` Write a program that has an abstract class Polygon. Derive two classes Rectangle and Triamgle from Polygon and write methods to get the details of their dimensions and hence calculate the area."
      ],
      "metadata": {
        "id": "OcQhJvXVALgp"
      }
    },
    {
      "cell_type": "code",
      "source": [
        "class Polygon:\n",
        "\n",
        "    def __init__(self, n):\n",
        "        self.number_of_sides = n\n",
        "\n",
        "    def print_num_sides(self):\n",
        "        '''A quick, informational print statement.'''\n",
        "        print(f'There are {self.number_of_sides} sides.')\n",
        "\n",
        "class Rectangle(Polygon):\n",
        "\n",
        "    def __init__(self, lengths_of_sides):\n",
        "        Polygon.__init__(self, 4)\n",
        "        self.lengths_of_sides = lengths_of_sides  # list of two numbers\n",
        "\n",
        "    def get_area(self):\n",
        "        '''Return the area of the rectangle: length x width.'''\n",
        "        x, y = self.lengths_of_sides\n",
        "        return x * y\n",
        "\n",
        "class Triangle(Polygon):\n",
        "\n",
        "    def __init__(self, lengths_of_sides):\n",
        "        Polygon.__init__(self, 3)\n",
        "        self.lengths_of_sides = lengths_of_sides  # list of three numbers\n",
        "\n",
        "    def get_area(self):\n",
        "        '''Return the area of the triangle using the semi-perimeter method.'''\n",
        "        a, b, c = self.lengths_of_sides\n",
        "\n",
        "        # calculate the semi-perimeter\n",
        "        s = (a + b + c) / 2\n",
        "        return (s*(s-a)*(s-b)*(s-c)) ** 0.5"
      ],
      "metadata": {
        "id": "9IMrtdUH__eA"
      },
      "execution_count": 6,
      "outputs": []
    },
    {
      "cell_type": "code",
      "source": [
        "tri = Triangle([3, 4, 5])\n",
        "print(tri.get_area())\n",
        "tri.print_num_sides()\n"
      ],
      "metadata": {
        "id": "2Yi3PkIyC2MQ",
        "outputId": "336d611e-33b1-4bf3-da91-2d08fd4834e9",
        "colab": {
          "base_uri": "https://localhost:8080/"
        }
      },
      "execution_count": 8,
      "outputs": [
        {
          "output_type": "stream",
          "name": "stdout",
          "text": [
            "6.0\n",
            "There are 3 sides.\n"
          ]
        }
      ]
    },
    {
      "cell_type": "markdown",
      "source": [
        "### `Problem-5:` Write a program with class Bill. The users have the option to pay the bill either by cheque or by cash. Use the inheritance to model this situation."
      ],
      "metadata": {
        "id": "sEsGEqOHCSWG"
      }
    },
    {
      "cell_type": "code",
      "source": [],
      "metadata": {
        "id": "l0WFyP2PB3nf"
      },
      "execution_count": null,
      "outputs": []
    },
    {
      "cell_type": "markdown",
      "source": [
        "###`Q-6:` FlexibleDict\n",
        "As of now we are accessing values from dictionary with exact keys. Now we want to amend accessing values functionality. if a dict have key `1` (int) the even if we try to access values by giving `'1'` (1 as str) as key, we should get the same result and vice versa.\n",
        "\n",
        "Write a class `FlexibleDict` upon builtin `dict` class with above required functionality.\n",
        "\n",
        "Hint- `dict[key] => dict.__getitem__(key)` "
      ],
      "metadata": {
        "id": "v1M5Yh9ZZO0z"
      }
    },
    {
      "cell_type": "markdown",
      "source": [
        "Ex.\n",
        "```\n",
        "fd = FlexibleDict()\n",
        "fd['a'] = 100\n",
        "print(fd['a']) # Like regular dict\n",
        "\n",
        "fd[5] = 500\n",
        "print(fd[5]) # Like regular dict\n",
        "\n",
        "fd[1] = 100\n",
        "print(fd['1']) # actual Key is int but still trying to access through str key.\n",
        "fd['1'] = 100\n",
        "print(fd[1])\n",
        "\n",
        "```\n",
        "`Output:`\n",
        "```\n",
        "100\n",
        "500\n",
        "100\n",
        "100\n",
        "\n",
        "```"
      ],
      "metadata": {
        "id": "uajGeWegbfda"
      }
    },
    {
      "cell_type": "code",
      "source": [],
      "metadata": {
        "id": "OHLbOtCxZ2nw"
      },
      "execution_count": null,
      "outputs": []
    },
    {
      "cell_type": "code",
      "source": [],
      "metadata": {
        "id": "7NM8r__dmeMf"
      },
      "execution_count": null,
      "outputs": []
    },
    {
      "cell_type": "code",
      "source": [],
      "metadata": {
        "id": "waHSud8Ymkz-"
      },
      "execution_count": null,
      "outputs": []
    }
  ]
}